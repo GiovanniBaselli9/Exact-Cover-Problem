{
  "nbformat": 4,
  "nbformat_minor": 0,
  "metadata": {
    "colab": {
      "provenance": [],
      "collapsed_sections": [
        "bBmA8_SFgI3j",
        "iJ1ZC9i1eyu3",
        "OazmyaxuKfkw",
        "hA4-53HdBpWY",
        "-LnPjWxe5Ihy",
        "uC5kdmIH0etz",
        "OFWGS3474IS1",
        "SMMlibckBiq6",
        "VVFeqSeW8t0c",
        "-qaeuV25O-yt",
        "3ipUhqEiPXly",
        "Lljh4tjnPuSO",
        "FaCu1GrtQFFc",
        "5v7gDhnMIdzY"
      ],
      "include_colab_link": true
    },
    "kernelspec": {
      "name": "python3",
      "display_name": "Python 3"
    },
    "language_info": {
      "name": "python"
    },
    "gpuClass": "standard"
  },
  "cells": [
    {
      "cell_type": "markdown",
      "metadata": {
        "id": "view-in-github",
        "colab_type": "text"
      },
      "source": [
        "<a href=\"https://colab.research.google.com/github/GiovanniBaselli9/Exact-Cover-Problem/blob/main/Progetto_EC_AESD_Giovanni_Baselli.ipynb\" target=\"_parent\"><img src=\"https://colab.research.google.com/assets/colab-badge.svg\" alt=\"Open In Colab\"/></a>"
      ]
    },
    {
      "cell_type": "markdown",
      "source": [
        "---\n",
        "---\n",
        "---\n",
        "# **ALGORITMI E STRUTTURE DATI - EC**\n",
        "---\n",
        "---\n",
        "---\n",
        "\n",
        "*A cura di:*\n",
        "\n",
        "    Giovanni Baselli\n",
        "    Matricola 718969\n",
        "    A.A. 2021/2022\n"
      ],
      "metadata": {
        "id": "768Sko9gNEI1"
      }
    },
    {
      "cell_type": "markdown",
      "source": [
        "---\n",
        "# **Introduzione**\n"
      ],
      "metadata": {
        "id": "bBmA8_SFgI3j"
      }
    },
    {
      "cell_type": "markdown",
      "source": [
        "**Compiti e obiettivi del lavoro**\n",
        "---\n",
        "I compiti e gli obiettivi del seguente lavoro sono:\n",
        "* la progettazione e lo sviluppo di un algoritmo chiamato EC che possa risolvere il problema di Exact Cover, sulla base dello pseudocodice fornito nella documentazione;\n",
        "* la progettazione e lo sviluppo di un'ulteriore versione dell'algoritmo chiamata EC+, sulla base dello pseudocodice fornito nella documentazione;\n",
        "* la progettazione e lo sviluppo di un programma per la generazione del file di input;\n",
        "* la progettazione e lo sviluppo di un programma per effettuare un confronto tra le uscite calcolate dalle due versioni dell'algoritmo.\n",
        "\n",
        "\\\\\n",
        "\n",
        "Questo *notebook* ha lo scopo di:\n",
        "* fornire una prima spiegazione del problema che si vuole risolvere;\n",
        "* fornire le soluzioni adottate per risolvere tale problema, seguendo la struttura ordinata e sequenziale delle celle di Colab;\n",
        "* permettere l'esecuzione diretta del codice fornito e la visualizzazione dei risultati (file generati, grafici, ecc.);\n",
        "* raccogliere in un unico luogo tutte le soluzioni software richieste dal progetto.\n",
        "\n",
        "\\\\\n",
        "\n",
        "**Maggiori dettagli riguardo al progetto complessivo**, quali gli pseudocodici seguiti, i concetti chiave, le scelte implementative e quant'altro, **sono reperibili nella documentazione al seguente link:** https://drive.google.com/file/d/12af5GHGguwIsPbW9jaVrlJjj-3kKhZpD/view?usp=share_link\n",
        "\n",
        "\n"
      ],
      "metadata": {
        "id": "m5NSv98dtxCe"
      }
    },
    {
      "cell_type": "markdown",
      "source": [
        "**Problema EC (Exact Cover)**\n",
        "---\n",
        "Il problema di *copertura esatta* o *Exact Cover* è un problema di ottimizzazione combinatoria NP-completo ed è uno dei 21 problemi di tipo NP-completo di Karp.\n"
      ],
      "metadata": {
        "id": "I78OzZzc1VQl"
      }
    },
    {
      "cell_type": "markdown",
      "source": [
        "Esso coinvolge i seguenti tre insiemi:\n",
        "\n",
        "* **M** = dominio, definito come un insieme di elementi distinti (che, in questa soluzione, sono rappresentati come coppie lettera-cifra araba).\n",
        "Ogni elemento di M è univocamente identificato da un indice intero appartenente all'intervallo [1..|M|].\n",
        "\n",
        "* **N** = collezione finita di insiemi finiti (distinti) dove gli elementi di ogni insieme appartengono al dominio M.\n",
        "Ogni elemento di N è univocamente identificato da un indice intero appartenente all'intervallo [1..|N|].\n",
        "\n",
        "* **Partizioni** = tutte le partizioni (o coperture esatte) di M dove ciascuna parte è un insieme della collezione N.\n",
        "Una partizione di M è un (sotto)insieme della collezione N costituito da insiemi tutti reciprocamente disgiunti e tali che la loro unione sia M."
      ],
      "metadata": {
        "id": "n6p5AVTfqsvZ"
      }
    },
    {
      "cell_type": "markdown",
      "source": [
        "**Esempio:**\n",
        "\n",
        "    M = {a1, b2, b3, c4, a4, d2}\n",
        "\n",
        "    N = { {a1, b2},\n",
        "          {a1, b3, a4},\n",
        "          {b2, c4, d2},\n",
        "          {b3, a4, d2},\n",
        "          {c4},\n",
        "          {b2, c4, b3, a1, a4, d2} \n",
        "          {a1, b3} }\n",
        "    \n",
        "\n",
        "    Partizioni = { {{a1, b2}, {b3, a4, d2}, {c4}}, \n",
        "                   {{a1, b3, a4}, {b2, c4, d2}},\n",
        "                   {{b2, c4, b3, a1, a4, d2}} }\n",
        "    \n",
        "    |M| = 6\n",
        "    |N| = 7\n",
        "    |Partizioni| = 3"
      ],
      "metadata": {
        "id": "NOOdohZtGbMm"
      }
    },
    {
      "cell_type": "markdown",
      "source": [
        "Generalmente, il problema prevede:\n",
        "\n",
        "* ***Input***: collezione N, i cui (sotto)insiemi sono composti da elementi del dominio M\n",
        "\n",
        "* ***Output***: insieme delle Partizioni"
      ],
      "metadata": {
        "id": "_FcLe4T9fOwy"
      }
    },
    {
      "cell_type": "markdown",
      "source": [
        "**Input**\n",
        "---\n",
        "\n",
        "Nel caso in esame, l'**input** viene rappresentato come una **matrice A** di dimensione |N| x |M|, dove il valore del componente *a(i,j)* è:\n",
        "- **1** => se l'elemento di indice *j* del dominio M  appartiene all'insieme di indice *i* della collezione N;\n",
        "- **0** => altrimenti.\n",
        "\n",
        "\n",
        "Considerando l'**esempio** precedente, la matrice A relativa è la seguente: ogni riga corrisponde ad un insieme della collezione N, mentre ogni colonna ad un elemento del dominio M.\n",
        "\n",
        "\\\\\n",
        "\\begin{equation*}\n",
        "A_{|N|\\times |M|} =\n",
        "\\begin{bmatrix}\n",
        "1 & 1 & 0 & 0 & 0 & 0\\\\\n",
        "1 & 0 & 1 & 0 & 1 & 0\\\\\n",
        "0 & 1 & 0 & 1 & 0 & 1\\\\\n",
        "0 & 0 & 1 & 0 & 1 & 1\\\\\n",
        "0 & 0 & 0 & 1 & 0 & 0\\\\\n",
        "1 & 1 & 1 & 1 & 1 & 1\\\\\n",
        "1 & 0 & 1 & 0 & 0 & 0\\\\\n",
        "\\end{bmatrix}\n",
        "\\end{equation*}"
      ],
      "metadata": {
        "id": "7uh7lB0OJqHb"
      }
    },
    {
      "cell_type": "markdown",
      "source": [
        "**Output**\n",
        "---\n",
        "Sempre per il caso in esame, l'**output** rappresentata le partizioni attraverso l'**insieme COV**, in cui ciascuna partizione è definita come insieme di identificatori, uno per ciascun insieme appartenente alla collezione N che fa parte della partizione.\n",
        "\n",
        "Dato l'**esempio** precedente, le partizioni saranno rappresentate in questo modo:\n",
        "\n",
        "    Partizioni = { {{a1, b2}, {b3, a4, d2}, {c4}}, \n",
        "                   {{a1, b3, a4}, {b2, c4, d2}},\n",
        "                   {{b2, c4, b3, a1, a4, d2}} }\n",
        "\n",
        "    COV = { {1, 4, 5},\n",
        "            {2, 3},\n",
        "            {6} }"
      ],
      "metadata": {
        "id": "gnMbhx1zfovX"
      }
    },
    {
      "cell_type": "markdown",
      "source": [
        "**Matrice di compatibilità**\n",
        "---\n",
        "\n",
        "L'approccio proposto utilizza il concetto di **matrice di compatibilità B**, ovvero una matrice simmetrica |N|x|N| in cui *b(i,j)* assume il valore **1** se valgono contemporaneamente:\n",
        "\n",
        "* i != j\n",
        "* A[i] ∩ A[j] = ∅\n",
        "* A[i] ∪ A[j] != M\n",
        "\n",
        "Se anche solo una delle condizioni non è valida, *b(i,j)* assume il valore **0**.\n",
        "\n",
        "L'algoritmo EC produce incrementalmente la matrice di compatibilità individuando così gli insiemi compatibili, ovvero A[i] e A[j] tali per cui *b(i,j)*=1, ai quali sarà possibile aggregare ulteriori insiemi al fine di formare delle partizioni. \n",
        "\n",
        "\n",
        "Nell'**esempio**, la matrice di compatibilità corrispondente è:\n",
        "\n",
        "\\\\\n",
        "\\begin{equation*}\n",
        "B_{|N|\\times |N|} =\n",
        "\\begin{bmatrix}\n",
        "0 & 0 & 0 & 1 & 1 & 0 & 0\\\\\n",
        " & 0 & 0 & 0 & 1 & 0 & 0\\\\\n",
        " &  & 0 & 0 & 0 & 0 & 1\\\\\n",
        " &  &  & 0 & 1 & 0 & 0\\\\\n",
        " &  &  &  & 0 & 0 & 1\\\\\n",
        " &  &  &  &  & 0 & 0\\\\\n",
        " &  &  &  &  &  & 0\\\\\n",
        "\\end{bmatrix}\n",
        "\\end{equation*}"
      ],
      "metadata": {
        "id": "fYMMBuJPhhSH"
      }
    },
    {
      "cell_type": "markdown",
      "source": [
        "---\n",
        "---\n",
        "#Librerie di utilità\n",
        "\n",
        "L'esecuzione di questa cella è necessaria per il corretto funzionamento di tutti i programmi disponibili all'interno del notebook, in quanto permette di importare le librerie di utilità utilizzate."
      ],
      "metadata": {
        "id": "iJ1ZC9i1eyu3"
      }
    },
    {
      "cell_type": "code",
      "source": [
        "import string\n",
        "import sys\n",
        "import random as r\n",
        "import timeit\n",
        "import shutil as sh\n",
        "import numpy as np\n",
        "from scipy.special import binom as bin\n",
        "from scipy.sparse import lil_matrix as lilmat\n",
        "import signal\n",
        "import os\n",
        "import matplotlib.pyplot as plt\n",
        "from google.colab import files"
      ],
      "metadata": {
        "id": "_NKiT3r2gtcp"
      },
      "execution_count": null,
      "outputs": []
    },
    {
      "cell_type": "markdown",
      "source": [
        "---\n",
        "# Funzioni di utilità\n",
        "In questa sezione sono presenti le funzioni di utilità usate all'interno di questo progetto."
      ],
      "metadata": {
        "id": "OazmyaxuKfkw"
      }
    },
    {
      "cell_type": "code",
      "source": [
        "def cardDistribution(lis, indeX):\n",
        "  if not 0 <= (indeX-1) < len(lis):\n",
        "    while len(lis)<indeX:\n",
        "        lis.append(0)\n",
        "  lis[indeX-1]+=1"
      ],
      "metadata": {
        "id": "CjMjUr5Dn6IF"
      },
      "execution_count": null,
      "outputs": []
    },
    {
      "cell_type": "code",
      "source": [
        "def handle_timeout(signum, frame):\n",
        "    raise TimeoutError"
      ],
      "metadata": {
        "id": "Z38Cb0fQQmxN"
      },
      "execution_count": null,
      "outputs": []
    },
    {
      "cell_type": "code",
      "source": [
        "def handle_interrupt(signal, frame):\n",
        "  print('\\nkeyboardInterrupt detected!')\n",
        "  raise KeyboardInterrupt"
      ],
      "metadata": {
        "id": "3SXrcqir_jHv"
      },
      "execution_count": null,
      "outputs": []
    },
    {
      "cell_type": "markdown",
      "source": [
        "---\n",
        "---\n",
        "# Generazione del file di input\n",
        "\n",
        "In questa sezione viene mostrata la generazione di un file '***input.txt***' di input per gli algoritmi EC ed EC+.\n",
        "\n",
        "Oltre al file sopracitato, viene creato un ulteriore file '***indexes.txt***' in cui è possibile consultare la lista indicizzata degli insiemi contenuti nella collezione N, utile ai fini della comprensione del file di output generato dagli algoritmi EC ed EC+.\n",
        "\n",
        "Entrambi i file vengono scaricati automaticamente al termine dell'esecuzione. Tuttavia, essi sono reperibili per la visualizzazione diretta anche dalla sezione \"File\" di questo notebook in Colab."
      ],
      "metadata": {
        "id": "hA4-53HdBpWY"
      }
    },
    {
      "cell_type": "code",
      "source": [
        "start_time = timeit.default_timer()\n",
        "\n",
        "lengthM = r.randint(5,12)\n",
        "M = set()\n",
        "while len(M)<lengthM:\n",
        "  M.add(r.choice(string.ascii_lowercase)+str(r.randint(1,9)))\n",
        "\n",
        "max_comb = 0\n",
        "for k in range(1,lengthM):\n",
        "  max_comb += bin(lengthM, k)\n",
        "lengthN = r.randint(1, round(max_comb))\n",
        "N = set()\n",
        "lmin, lmax = round(lengthN/3), lengthN\n",
        "while len(N)<lengthN:\n",
        "  if len(N)<r.randint(lmin, lmax): N.add(frozenset(r.sample(M, k=r.randint(round(lengthM/2), lengthM))))\n",
        "  else: N.add(frozenset(r.sample(M, k=r.randint(1,round(lengthM/2)))))\n",
        "\n",
        "M = tuple(M)\n",
        "N = tuple([tuple(x) for x in N])\n",
        "strN = str(N).replace('(', '{').replace(')','}').replace(',}','}')\n",
        "\n",
        "cardsum=0\n",
        "NcardDistrib=[0]*lengthM\n",
        "for elem in N:\n",
        "  index=len(elem)\n",
        "  cardsum+=index\n",
        "  cardDistribution(NcardDistrib,index)\n",
        "  \n",
        "avgN=round(cardsum/len(N), 4)\n",
        "\n",
        "with open('input.txt', 'w') as f:\n",
        "    f.write(\"\".join([\n",
        "        \";;; M = {\", ', '.join(M), \"}\\n\",\n",
        "        \";;; N = \", strN.replace('\\'',''), \"\\n\\n\",\n",
        "        \";;; A =\\n\"]))\n",
        "    \n",
        "    for i in range(lengthN):\n",
        "      A_row=[1 if (M[j] in N[i]) else 0 for j in range(lengthM)]\n",
        "      f.write(str(A_row).replace('[','').replace(']','').replace(',',''))\n",
        "      if i!=lengthN-1: f.write(\" -\\n\")\n",
        "\n",
        "    f.write(\"\".join([\"\\n\\n;;; Cardinality of domain M: \", str(lengthM),\n",
        "            \"\\n;;; M indexes from 1 to \", str(lengthM),\n",
        "            \"\\n;;; Cardinality of collection N: \", str(lengthN),\n",
        "            \"\\n;;; N indexes from 1 to \", str(lengthN),\n",
        "            \"\\n;;; Average cardinality for sets in N (avgN): \", str(avgN),\n",
        "            \"\\n;;; Aggregate index (avgN/|M|): \", str(round(avgN/lengthM,4))]))\n",
        "    for i in range(lengthM):\n",
        "      f.write(\"\\n;;; Sets in N with cardinality \"+str(i+1)+\": \"+str(NcardDistrib[i])+\" => \"+str(round(NcardDistrib[i]/lengthN*100,3))+\"%\")\n",
        "    execution_time = timeit.default_timer()-start_time\n",
        "    f.write(\"\\n;;; Time to build and save A: \"+str(execution_time)+\"s\")\n",
        "    f.close()\n",
        "    \n",
        "sh.copy2('input.txt', 'indexes.txt')\n",
        "with open('indexes.txt', 'a') as f:\n",
        " f.write(\"\\n\\n;;; M indexes:\")\n",
        " for i in range(lengthM):\n",
        "   f.write(\"\\n;;; \"+str(i+1)+\"->\"+str(M[i]))\n",
        " f.write(\"\\n\\n;;; N indexes:\")\n",
        " for i in range(lengthN):\n",
        "   f.write(\"\\n;;; \"+str(i+1)+\"->\"+str(N[i]).replace('(', '{').replace(')','}').replace('\\'', '').replace(',}','}'))\n",
        " f.close()"
      ],
      "metadata": {
        "id": "qmpZP1-jKvSW"
      },
      "execution_count": null,
      "outputs": []
    },
    {
      "cell_type": "markdown",
      "source": [
        "---\n",
        "Visualizzazione dei risultati ottenuti:"
      ],
      "metadata": {
        "id": "m1eRq9jqSR_x"
      }
    },
    {
      "cell_type": "code",
      "source": [
        "print(\"M = {\"+', '.join(M)+\"}\\n\"+\n",
        "      \"N = \"+strN.replace('\\'','')+\"\\n\"+\n",
        "      \"\\nCardinality of domain M: \"+str(lengthM)+\n",
        "      \"\\nM indexes from 1 to \"+str(lengthM)+\n",
        "      \"\\nCardinality of collection N: \"+str(lengthN)+\n",
        "      \"\\nN indexes from 1 to \"+str(lengthN)+\n",
        "      \"\\n\\nAverage cardinality for sets in N: \"+str(avgN)+\n",
        "      \"\\nAggregate index (avgN/|M|): \"+str(round(avgN/lengthM,4)))\n",
        "\n",
        "for i in range(lengthM):\n",
        "      print(\"Sets in N with cardinality \"+str(i+1)+\": \"+str(NcardDistrib[i])+\" => \"+str(round(NcardDistrib[i]/lengthN*100,3))+\"%\")\n",
        "\n",
        "print(\"\\n;;; Time to build and save A: \"+str(execution_time)+\"s\")"
      ],
      "metadata": {
        "colab": {
          "base_uri": "https://localhost:8080/"
        },
        "id": "aJpCyldpNo9J",
        "outputId": "e73b2ab3-6f1f-4f48-8e18-55bc6ff9865c"
      },
      "execution_count": null,
      "outputs": [
        {
          "output_type": "stream",
          "name": "stdout",
          "text": [
            "M = {q9, d9, z9, o7, q3, i2, e6}\n",
            "N = {{q9, d9, i2, z9}, {i2, q3, e6}, {q9, d9, q3, e6}, {q9, d9, z9, o7, i2}, {d9}, {q3, z9}, {q9, q3, o7}, {q9, z9, q3, i2, e6}, {q9, q3, z9, e6}, {q9, q3}, {d9, q3, z9, e6}, {q9, d9, z9, o7, q3, i2}, {d9, i2, e6, o7}, {i2, q3, z9, o7}, {z9, o7}, {z9, o7, q3, i2, e6}, {i2, z9, o7}, {i2, q3, o7}, {q3, o7}, {q9, d9, z9, o7, q3, i2, e6}, {d9, i2, e6}, {d9, e6}, {d9, e6, o7}, {q9, i2, e6, q3}, {q9, i2, e6}, {q9, e6}, {q9, i2, z9, o7}, {q9, d9, z9, o7, i2, e6}, {d9, q3, e6, o7}, {q9, d9, z9, e6}, {q9, d9, z9, q3, i2}, {q9, d9, q3}, {i2, q3, z9, e6}, {z9, e6}, {q9, z9}, {q9, d9, z9, q3, i2, e6}, {q9, i2, q3, o7}, {d9, z9, o7, q3, i2}, {q9, i2, z9, q3}, {q9, d9, z9, o7, q3, e6}, {d9, q3, z9, i2}, {d9, z9}, {q9, z9, o7, q3, i2}, {d9, o7, q3, i2, e6}, {q3}, {q9, d9, o7, q3, i2}, {i2, z9, e6, o7}, {q9}, {i2, q3, e6, o7}, {q9, d9}, {q9, d9, z9, o7, e6}, {q9, d9, q3, i2, e6}, {q9, d9, z9, o7}, {e6, o7}, {o7}, {z9}, {i2}, {q9, q3, e6}, {q9, d9, i2, o7}, {q9, d9, z9, q3, e6}, {q9, d9, o7, i2, e6}, {d9, z9, o7, q3, i2, e6}, {d9, i2, q3, o7}, {z9, e6, o7}, {q9, z9, o7, q3, i2, e6}, {q9, d9, z9, o7, q3}, {q9, q3, e6, o7}, {d9, z9, o7, q3, e6}, {d9, i2, z9, o7}, {q9, d9, o7, q3, i2, e6}, {d9, z9, o7, i2, e6}, {q9, z9, o7, q3, e6}, {d9, o7}}\n",
            "\n",
            "Cardinality of domain M: 7\n",
            "M indexes from 1 to 7\n",
            "Cardinality of collection N: 73\n",
            "N indexes from 1 to 73\n",
            "\n",
            "Average cardinality for sets in N: 3.7397\n",
            "Aggregate index (avgN/|M|): 0.5342\n",
            "Sets in N with cardinality 1: 6 => 8.219%\n",
            "Sets in N with cardinality 2: 12 => 16.438%\n",
            "Sets in N with cardinality 3: 10 => 13.699%\n",
            "Sets in N with cardinality 4: 21 => 28.767%\n",
            "Sets in N with cardinality 5: 16 => 21.918%\n",
            "Sets in N with cardinality 6: 7 => 9.589%\n",
            "Sets in N with cardinality 7: 1 => 1.37%\n",
            "\n",
            ";;; Time to build and save A: 0.003450655000008851s\n"
          ]
        }
      ]
    },
    {
      "cell_type": "markdown",
      "source": [
        "---\n",
        "Download dei file '*input.txt*' e '*indexes.txt*'."
      ],
      "metadata": {
        "id": "gmdlyPduO49k"
      }
    },
    {
      "cell_type": "code",
      "source": [
        "files.download(\"./input.txt\")\n",
        "files.download(\"./indexes.txt\")"
      ],
      "metadata": {
        "colab": {
          "base_uri": "https://localhost:8080/"
        },
        "id": "zX-CIfdAO4ES",
        "outputId": "32d3809a-e40b-460b-be07-cf4a4684eac7"
      },
      "execution_count": null,
      "outputs": [
        {
          "output_type": "display_data",
          "data": {
            "text/plain": [
              "<IPython.core.display.Javascript object>"
            ],
            "application/javascript": [
              "\n",
              "    async function download(id, filename, size) {\n",
              "      if (!google.colab.kernel.accessAllowed) {\n",
              "        return;\n",
              "      }\n",
              "      const div = document.createElement('div');\n",
              "      const label = document.createElement('label');\n",
              "      label.textContent = `Downloading \"${filename}\": `;\n",
              "      div.appendChild(label);\n",
              "      const progress = document.createElement('progress');\n",
              "      progress.max = size;\n",
              "      div.appendChild(progress);\n",
              "      document.body.appendChild(div);\n",
              "\n",
              "      const buffers = [];\n",
              "      let downloaded = 0;\n",
              "\n",
              "      const channel = await google.colab.kernel.comms.open(id);\n",
              "      // Send a message to notify the kernel that we're ready.\n",
              "      channel.send({})\n",
              "\n",
              "      for await (const message of channel.messages) {\n",
              "        // Send a message to notify the kernel that we're ready.\n",
              "        channel.send({})\n",
              "        if (message.buffers) {\n",
              "          for (const buffer of message.buffers) {\n",
              "            buffers.push(buffer);\n",
              "            downloaded += buffer.byteLength;\n",
              "            progress.value = downloaded;\n",
              "          }\n",
              "        }\n",
              "      }\n",
              "      const blob = new Blob(buffers, {type: 'application/binary'});\n",
              "      const a = document.createElement('a');\n",
              "      a.href = window.URL.createObjectURL(blob);\n",
              "      a.download = filename;\n",
              "      div.appendChild(a);\n",
              "      a.click();\n",
              "      div.remove();\n",
              "    }\n",
              "  "
            ]
          },
          "metadata": {}
        },
        {
          "output_type": "display_data",
          "data": {
            "text/plain": [
              "<IPython.core.display.Javascript object>"
            ],
            "application/javascript": [
              "download(\"download_e45ae9b6-d124-4f34-b196-f7521c435a53\", \"input.txt\", 3052)"
            ]
          },
          "metadata": {}
        },
        {
          "output_type": "display_data",
          "data": {
            "text/plain": [
              "<IPython.core.display.Javascript object>"
            ],
            "application/javascript": [
              "\n",
              "    async function download(id, filename, size) {\n",
              "      if (!google.colab.kernel.accessAllowed) {\n",
              "        return;\n",
              "      }\n",
              "      const div = document.createElement('div');\n",
              "      const label = document.createElement('label');\n",
              "      label.textContent = `Downloading \"${filename}\": `;\n",
              "      div.appendChild(label);\n",
              "      const progress = document.createElement('progress');\n",
              "      progress.max = size;\n",
              "      div.appendChild(progress);\n",
              "      document.body.appendChild(div);\n",
              "\n",
              "      const buffers = [];\n",
              "      let downloaded = 0;\n",
              "\n",
              "      const channel = await google.colab.kernel.comms.open(id);\n",
              "      // Send a message to notify the kernel that we're ready.\n",
              "      channel.send({})\n",
              "\n",
              "      for await (const message of channel.messages) {\n",
              "        // Send a message to notify the kernel that we're ready.\n",
              "        channel.send({})\n",
              "        if (message.buffers) {\n",
              "          for (const buffer of message.buffers) {\n",
              "            buffers.push(buffer);\n",
              "            downloaded += buffer.byteLength;\n",
              "            progress.value = downloaded;\n",
              "          }\n",
              "        }\n",
              "      }\n",
              "      const blob = new Blob(buffers, {type: 'application/binary'});\n",
              "      const a = document.createElement('a');\n",
              "      a.href = window.URL.createObjectURL(blob);\n",
              "      a.download = filename;\n",
              "      div.appendChild(a);\n",
              "      a.click();\n",
              "      div.remove();\n",
              "    }\n",
              "  "
            ]
          },
          "metadata": {}
        },
        {
          "output_type": "display_data",
          "data": {
            "text/plain": [
              "<IPython.core.display.Javascript object>"
            ],
            "application/javascript": [
              "download(\"download_c26f3ec3-3546-47b7-ba5e-2a1c5e73d30c\", \"indexes.txt\", 4894)"
            ]
          },
          "metadata": {}
        }
      ]
    },
    {
      "cell_type": "markdown",
      "source": [
        "---\n",
        "---\n",
        "# Lettura file di testo\n",
        "\n",
        "Il file .txt di input è comune per EC ed EC+, pertanto il processo di lettura è unico e i dati raccolti sono utilizzati da entrambi gli algoritmi."
      ],
      "metadata": {
        "id": "-LnPjWxe5Ihy"
      }
    },
    {
      "cell_type": "code",
      "source": [
        "try:\n",
        "  with open(\"input.txt\", \"r\") as f:  \n",
        "      A_read = [line for line in f if (\";;;\" not in line and line.strip())]\n",
        "      f.close()\n",
        "\n",
        "  stop=len(A_read)\n",
        "  for i in range(len(A_read)):\n",
        "    A_read[i]=A_read[i].split()\n",
        "\n",
        "    if \"-\" in A_read[i]: \n",
        "      A_read[i].remove(\"-\")\n",
        "\n",
        "    if i==0:\n",
        "      minmaxlen=len(A_read[0])\n",
        "\n",
        "    try:\n",
        "      A_read[i]=tuple([int(elem) for elem in A_read[i] if (int(elem)==1 or int(elem)==0)])\n",
        "      if len(A_read[i])!=minmaxlen:\n",
        "          print(\"Error in building A: rows have not the same length.\")\n",
        "          stop=i\n",
        "          break\n",
        "      elif A_read[i].count(1)==0:\n",
        "        print(\"Error in building A: rows contain an all zeros row.\")\n",
        "        stop=i\n",
        "        break\n",
        "    except ValueError:\n",
        "      print(\"Error in building A: rows in file contain not integer elements.\")\n",
        "      stop=0\n",
        "      break\n",
        "  \n",
        "\n",
        "  if(stop!=len(A_read)):\n",
        "    print(\"A matrix not imported.\")\n",
        "    del A_read\n",
        "  else:\n",
        "    A_read=tuple(A_read)\n",
        "    print(A_read)\n",
        "\n",
        "except FileNotFoundError:\n",
        "  print(\"There's no 'input.txt' file.\")"
      ],
      "metadata": {
        "colab": {
          "base_uri": "https://localhost:8080/"
        },
        "id": "oqOmVXDkFaL2",
        "outputId": "52d0d0ab-e9b7-473a-d3f7-4c6fd107ce19"
      },
      "execution_count": null,
      "outputs": [
        {
          "output_type": "stream",
          "name": "stdout",
          "text": [
            "((1, 1, 1, 0, 0, 1, 0), (0, 0, 0, 0, 1, 1, 1), (1, 1, 0, 0, 1, 0, 1), (1, 1, 1, 1, 0, 1, 0), (0, 1, 0, 0, 0, 0, 0), (0, 0, 1, 0, 1, 0, 0), (1, 0, 0, 1, 1, 0, 0), (1, 0, 1, 0, 1, 1, 1), (1, 0, 1, 0, 1, 0, 1), (1, 0, 0, 0, 1, 0, 0), (0, 1, 1, 0, 1, 0, 1), (1, 1, 1, 1, 1, 1, 0), (0, 1, 0, 1, 0, 1, 1), (0, 0, 1, 1, 1, 1, 0), (0, 0, 1, 1, 0, 0, 0), (0, 0, 1, 1, 1, 1, 1), (0, 0, 1, 1, 0, 1, 0), (0, 0, 0, 1, 1, 1, 0), (0, 0, 0, 1, 1, 0, 0), (1, 1, 1, 1, 1, 1, 1), (0, 1, 0, 0, 0, 1, 1), (0, 1, 0, 0, 0, 0, 1), (0, 1, 0, 1, 0, 0, 1), (1, 0, 0, 0, 1, 1, 1), (1, 0, 0, 0, 0, 1, 1), (1, 0, 0, 0, 0, 0, 1), (1, 0, 1, 1, 0, 1, 0), (1, 1, 1, 1, 0, 1, 1), (0, 1, 0, 1, 1, 0, 1), (1, 1, 1, 0, 0, 0, 1), (1, 1, 1, 0, 1, 1, 0), (1, 1, 0, 0, 1, 0, 0), (0, 0, 1, 0, 1, 1, 1), (0, 0, 1, 0, 0, 0, 1), (1, 0, 1, 0, 0, 0, 0), (1, 1, 1, 0, 1, 1, 1), (1, 0, 0, 1, 1, 1, 0), (0, 1, 1, 1, 1, 1, 0), (1, 0, 1, 0, 1, 1, 0), (1, 1, 1, 1, 1, 0, 1), (0, 1, 1, 0, 1, 1, 0), (0, 1, 1, 0, 0, 0, 0), (1, 0, 1, 1, 1, 1, 0), (0, 1, 0, 1, 1, 1, 1), (0, 0, 0, 0, 1, 0, 0), (1, 1, 0, 1, 1, 1, 0), (0, 0, 1, 1, 0, 1, 1), (1, 0, 0, 0, 0, 0, 0), (0, 0, 0, 1, 1, 1, 1), (1, 1, 0, 0, 0, 0, 0), (1, 1, 1, 1, 0, 0, 1), (1, 1, 0, 0, 1, 1, 1), (1, 1, 1, 1, 0, 0, 0), (0, 0, 0, 1, 0, 0, 1), (0, 0, 0, 1, 0, 0, 0), (0, 0, 1, 0, 0, 0, 0), (0, 0, 0, 0, 0, 1, 0), (1, 0, 0, 0, 1, 0, 1), (1, 1, 0, 1, 0, 1, 0), (1, 1, 1, 0, 1, 0, 1), (1, 1, 0, 1, 0, 1, 1), (0, 1, 1, 1, 1, 1, 1), (0, 1, 0, 1, 1, 1, 0), (0, 0, 1, 1, 0, 0, 1), (1, 0, 1, 1, 1, 1, 1), (1, 1, 1, 1, 1, 0, 0), (1, 0, 0, 1, 1, 0, 1), (0, 1, 1, 1, 1, 0, 1), (0, 1, 1, 1, 0, 1, 0), (1, 1, 0, 1, 1, 1, 1), (0, 1, 1, 1, 0, 1, 1), (1, 0, 1, 1, 1, 0, 1), (0, 1, 0, 1, 0, 0, 0))\n"
          ]
        }
      ]
    },
    {
      "cell_type": "markdown",
      "source": [
        "---\n",
        "#Implementazione algoritmo **EC**\n",
        "Risoluzione del problema di Exact Cover (EC) nella prima versione dell'algoritmo.\n",
        "\n",
        "Questa sezione permette la generazione di un file '***output.txt***' contenente le partizioni individuate dall'algoritmo base, scaricato automaticamente al termine dell'esecuzione. Esso è reperibile per la visualizzazione diretta anche dalla sezione \"File\" del notebook in Colab."
      ],
      "metadata": {
        "id": "uC5kdmIH0etz"
      }
    },
    {
      "cell_type": "code",
      "source": [
        "f_out = open('output.txt', 'w+')\n",
        "f_out.write(\"\".join([';;; Cardinality of domain M: ', str(len(A_read[0])),\n",
        "             '\\n;;; Cardinality of collection N: ', str(len(A_read)),\n",
        "             '\\n\\n;;; Partitions EC: \\n']))"
      ],
      "metadata": {
        "colab": {
          "base_uri": "https://localhost:8080/"
        },
        "id": "HRSbpmhq5_Ma",
        "outputId": "a469cfa6-caaa-44d9-d3fc-d3db0e498ab5"
      },
      "execution_count": null,
      "outputs": [
        {
          "output_type": "execute_result",
          "data": {
            "text/plain": [
              "88"
            ]
          },
          "metadata": {},
          "execution_count": 9
        }
      ]
    },
    {
      "cell_type": "code",
      "source": [
        "B = lilmat((len(A_read),len(A_read)),dtype=int)\n",
        "visited = 0\n",
        "tot_nodes = 2**len(A_read)-1\n",
        "COVcard=0\n",
        "COVcardDistrib=[]\n",
        "NcardSum=0"
      ],
      "metadata": {
        "id": "bfPeWqkve3DK"
      },
      "execution_count": null,
      "outputs": []
    },
    {
      "cell_type": "code",
      "source": [
        "def ESPLORA(A, I, U, Inter):\n",
        "  global visited, COVcard\n",
        "  for k in Inter[0]:\n",
        "    visited+=1\n",
        "    Itemp=list(I)\n",
        "    Itemp.append(k+1)\n",
        "    Utemp=[1 if (U[col]==1 or A[k][col]==1) else 0 for col in range(len(A[i]))]\n",
        "    if Utemp.count(0)==0:\n",
        "          f_out.write(\"\".join([\"{\", str(sorted(Itemp)).replace('[', '').replace(']',''), \"} => cardinality: \", str(len(Itemp)),\"\\n\"]))\n",
        "          COVcard+=1\n",
        "          cardDistribution(COVcardDistrib,len(Itemp))\n",
        "    else:\n",
        "      Intertemp_index = []\n",
        "      Intertemp = []\n",
        "      for K in range(k):\n",
        "        if Inter[1][K]==1 and B[K,k]==1:\n",
        "          Intertemp_index.append(K)\n",
        "          Intertemp.append(1)\n",
        "        else: Intertemp.append(0)\n",
        "      if Intertemp_index:\n",
        "        ESPLORA(A,Itemp,Utemp,[Intertemp_index,Intertemp])"
      ],
      "metadata": {
        "id": "ulAWvRiP_K3i"
      },
      "execution_count": null,
      "outputs": []
    },
    {
      "cell_type": "code",
      "source": [
        "def EC(A):\n",
        "  global visited, COVcard, NcardSum\n",
        "  for i in range(len(A)):\n",
        "    NcardSum+=A[i].count(1)\n",
        "    if A[i].count(1)==0:\n",
        "      continue\n",
        "    if A[i].count(0)==0:\n",
        "      f_out.write(\"\".join([\"{\", str(i+1), \"} => cardinality: 1\\n\"]))\n",
        "      visited+=1\n",
        "      COVcard+=1\n",
        "      cardDistribution(COVcardDistrib,1)\n",
        "      continue\n",
        "    \n",
        "    for j in range(i):\n",
        "      visited+=1\n",
        "      flag=True\n",
        "      for col in range(len(A[i])):\n",
        "        if A[i][col]==1 and A[j][col]==1:\n",
        "          flag=False\n",
        "          break\n",
        "      if flag:\n",
        "        I=[i+1,j+1]\n",
        "        U=[1 if (A[i][col]==1 or A[j][col]==1) else 0 for col in range(len(A[i]))]\n",
        "        if U.count(0)==0:\n",
        "          f_out.write(\"\".join([\"{\", str(sorted(I)).replace('[', '').replace(']',''), \"} => cardinality: 2\\n\"]))\n",
        "          COVcard+=1\n",
        "          cardDistribution(COVcardDistrib,2)\n",
        "        else:\n",
        "          B[j,i]=1\n",
        "          Inter_index=[]\n",
        "          Inter=[]\n",
        "          for r in range(j):\n",
        "            if B[r,i]==1 and B[r,j]==1:\n",
        "              Inter_index.append(r)\n",
        "              Inter.append(1)\n",
        "            else: Inter.append(0)\n",
        "          if Inter_index:\n",
        "            ESPLORA(A,I,U,[Inter_index,Inter])"
      ],
      "metadata": {
        "id": "2c_CirodA15C"
      },
      "execution_count": null,
      "outputs": []
    },
    {
      "cell_type": "code",
      "source": [
        "signal.signal(signal.SIGALRM, handle_timeout)\n",
        "signal.signal(signal.SIGINT, handle_interrupt)\n",
        "signal.alarm(3600)\n",
        "ended=\"no\"\n",
        "\n",
        "try:\n",
        "    start_time = timeit.default_timer()\n",
        "    EC(A_read)\n",
        "    execution_time = timeit.default_timer()-start_time\n",
        "    f_out.write(\"\\n;;; Time to create partitions: \"+str(execution_time)+\"s\\n\")\n",
        "    ended=\"yes\"\n",
        "except TimeoutError:\n",
        "    execution_time = timeit.default_timer()-start_time\n",
        "    print(\"Time is up. Partitioning in EC has been stopped.\")\n",
        "    f_out.write(\"\\n;;; Time is up. Partitioning in EC has been stopped after \"+str(execution_time)+\"s\\n\")\n",
        "except KeyboardInterrupt:\n",
        "    execution_time = timeit.default_timer()-start_time\n",
        "    print(\"Partitioning in EC has been stopped by the user.\")\n",
        "    f_out.write(\"\\n;;; Partitioning in EC has been stopped by the user after \"+str(execution_time)+\"s\\n\")\n",
        "finally:\n",
        "    signal.alarm(0)\n",
        "\n",
        "f_out.write(\"\\n;;; Number of partitions produced by EC: \"+str(COVcard))\n",
        "for i in range(len(COVcardDistrib)):\n",
        "    f_out.write(\"\\n;;; Partitions with cardinality \"+str(i+1)+\": \"+str(COVcardDistrib[i])+\" => \"+str(round(COVcardDistrib[i]/COVcard*100,3))+\"%\")\n",
        "\n",
        "f_out.write(\"\\n\\n;;; Number of visited nodes: \"+str(visited))\n",
        "try:\n",
        "  dimTotNodes=len(str(tot_nodes))\n",
        "  if dimTotNodes>12:\n",
        "    f_out.write(\"\\n;;; Number of possible nodes: > 1e\"+str(dimTotNodes-1)+\"\\n;;; Exact number: \"+str(tot_nodes))\n",
        "    f_out.write(\"\\n;;; Percentage of visited nodes: around 0%\\n;;; Exact percentage: \"+str(visited/tot_nodes*100)+\"%\\n\")\n",
        "  else:\n",
        "    f_out.write(\"\\n;;; Number of possible nodes: \"+str(tot_nodes))\n",
        "    f_out.write(\"\\n;;; Percentage of visited nodes: \"+str(visited/tot_nodes*100)+\"%\\n\")\n",
        "except ValueError:\n",
        "    f_out.write(\"\\n;;; Number of total nodes is too high, so it can't be printed.\\n;;; Percentage of visited nodes: around 0%\\n\")\n",
        "finally:\n",
        "  avgN=round(NcardSum/len(A_read), 4)\n",
        "  f_out.write(\"\\n;;; Average cardinality for sets in N (avgN): \"+str(avgN))\n",
        "  f_out.write(\"\\n;;; Aggregate index (avgN/|M|): \"+str(round(avgN/len(A_read[0]),4))+\"\\n\")\n",
        "  f_out.close()"
      ],
      "metadata": {
        "id": "KUQavcBaniVw"
      },
      "execution_count": null,
      "outputs": []
    },
    {
      "cell_type": "code",
      "source": [
        "EC_data_for_comparison={\n",
        "    \"Execution ended\": ended,\n",
        "    \"M cardinality\": len(A_read[0]),\n",
        "    \"N cardinality\": len(A_read),\n",
        "    \"Aggregate index\": round(avgN/len(A_read[0]),4),\n",
        "    \"visited nodes\": visited,\n",
        "    \"COV cardinality\": COVcard,\n",
        "    \"COV distribution\": COVcardDistrib,\n",
        "    \"execution time\": execution_time\n",
        "}"
      ],
      "metadata": {
        "id": "th-vrFkcSzVX"
      },
      "execution_count": null,
      "outputs": []
    },
    {
      "cell_type": "code",
      "source": [
        "EC_data_for_comparison"
      ],
      "metadata": {
        "colab": {
          "base_uri": "https://localhost:8080/"
        },
        "id": "nAPwlmnWTnP8",
        "outputId": "244a16c1-6457-4f81-ff69-74cb83680a55"
      },
      "execution_count": null,
      "outputs": [
        {
          "output_type": "execute_result",
          "data": {
            "text/plain": [
              "{'Execution ended': 'yes',\n",
              " 'M cardinality': 7,\n",
              " 'N cardinality': 73,\n",
              " 'Aggregate index': 0.5342,\n",
              " 'visited nodes': 3317,\n",
              " 'COV cardinality': 158,\n",
              " 'COV distribution': [1, 22, 55, 51, 25, 4],\n",
              " 'execution time': 0.03899125599998854}"
            ]
          },
          "metadata": {},
          "execution_count": 15
        }
      ]
    },
    {
      "cell_type": "markdown",
      "source": [
        "---\n",
        "Download del file di output di EC."
      ],
      "metadata": {
        "id": "6NcCFww6Nu17"
      }
    },
    {
      "cell_type": "code",
      "source": [
        "files.download(\"./output.txt\")"
      ],
      "metadata": {
        "colab": {
          "base_uri": "https://localhost:8080/"
        },
        "id": "Jn_sHHJ6NuP9",
        "outputId": "56dc1dee-17a8-45a7-c0ab-0fa9ca0d1109"
      },
      "execution_count": null,
      "outputs": [
        {
          "output_type": "display_data",
          "data": {
            "text/plain": [
              "<IPython.core.display.Javascript object>"
            ],
            "application/javascript": [
              "\n",
              "    async function download(id, filename, size) {\n",
              "      if (!google.colab.kernel.accessAllowed) {\n",
              "        return;\n",
              "      }\n",
              "      const div = document.createElement('div');\n",
              "      const label = document.createElement('label');\n",
              "      label.textContent = `Downloading \"${filename}\": `;\n",
              "      div.appendChild(label);\n",
              "      const progress = document.createElement('progress');\n",
              "      progress.max = size;\n",
              "      div.appendChild(progress);\n",
              "      document.body.appendChild(div);\n",
              "\n",
              "      const buffers = [];\n",
              "      let downloaded = 0;\n",
              "\n",
              "      const channel = await google.colab.kernel.comms.open(id);\n",
              "      // Send a message to notify the kernel that we're ready.\n",
              "      channel.send({})\n",
              "\n",
              "      for await (const message of channel.messages) {\n",
              "        // Send a message to notify the kernel that we're ready.\n",
              "        channel.send({})\n",
              "        if (message.buffers) {\n",
              "          for (const buffer of message.buffers) {\n",
              "            buffers.push(buffer);\n",
              "            downloaded += buffer.byteLength;\n",
              "            progress.value = downloaded;\n",
              "          }\n",
              "        }\n",
              "      }\n",
              "      const blob = new Blob(buffers, {type: 'application/binary'});\n",
              "      const a = document.createElement('a');\n",
              "      a.href = window.URL.createObjectURL(blob);\n",
              "      a.download = filename;\n",
              "      div.appendChild(a);\n",
              "      a.click();\n",
              "      div.remove();\n",
              "    }\n",
              "  "
            ]
          },
          "metadata": {}
        },
        {
          "output_type": "display_data",
          "data": {
            "text/plain": [
              "<IPython.core.display.Javascript object>"
            ],
            "application/javascript": [
              "download(\"download_71775e10-0de4-46f2-b911-7bf7243e74cc\", \"output.txt\", 5950)"
            ]
          },
          "metadata": {}
        }
      ]
    },
    {
      "cell_type": "markdown",
      "source": [
        "---\n",
        "# Implementazione algoritmo **EC+**\n",
        "Risoluzione del problema di Exact Cover (EC) nella seconda versione dell'algoritmo.\n",
        " \n",
        "Per gli aggregati di insiemi, in questo caso, non si controlla se l'unione di tali insiemi sia uguale al dominio M, ma piuttosto che la somma delle cardinalità degli insiemi coincida con la cardinalità di M.\n",
        "\n",
        "Questa sezione permette la generazione di un file '***output2.txt***' contenente le partizioni individuate dall'algoritmo plus, scaricato automaticamente al termine dell'esecuzione. Esso è reperibile per la visualizzazione diretta anche dalla sezione \"File\" del notebook in Colab."
      ],
      "metadata": {
        "id": "OFWGS3474IS1"
      }
    },
    {
      "cell_type": "code",
      "source": [
        "f_out2 = open('output2.txt', 'w+')\n",
        "f_out2.write(\"\".join([';;; Cardinality of domain M: ', str(len(A_read[0])),\n",
        "             '\\n;;; Cardinality of collection N: ', str(len(A_read)), \n",
        "             '\\n\\n;;; Partitions EC+: \\n']))"
      ],
      "metadata": {
        "colab": {
          "base_uri": "https://localhost:8080/"
        },
        "id": "vKQTSAqI6unn",
        "outputId": "591048ef-2936-4770-e09a-d2939faf0ea6"
      },
      "execution_count": null,
      "outputs": [
        {
          "output_type": "execute_result",
          "data": {
            "text/plain": [
              "89"
            ]
          },
          "metadata": {},
          "execution_count": 17
        }
      ]
    },
    {
      "cell_type": "code",
      "source": [
        "B = lilmat((len(A_read),len(A_read)),dtype=int)\n",
        "visited = 0\n",
        "tot_nodes = 2**len(A_read)-1\n",
        "COVcard = 0\n",
        "COVcardDistrib = []\n",
        "NcardSum=0\n",
        "NcardDistrib = [0]*len(A_read[0])"
      ],
      "metadata": {
        "id": "8eQmIkWJ4PdD"
      },
      "execution_count": null,
      "outputs": []
    },
    {
      "cell_type": "code",
      "source": [
        "def ESPLORA_PLUS(A, I, cardU, Inter):\n",
        "  global visited, COVcard\n",
        "  for k in Inter[0]:\n",
        "    visited+=1\n",
        "    Itemp=list(I)\n",
        "    Itemp.append(k+1)\n",
        "    cardtemp=cardU+A[k].count(1)\n",
        "    if cardtemp==len(A[0]):\n",
        "          f_out2.write(\"\".join([\"{\", str(sorted(Itemp)).replace('[', '').replace(']',''), \"} => cardinality: \", str(len(Itemp)), \"\\n\"]))\n",
        "          COVcard+=1\n",
        "          cardDistribution(COVcardDistrib,len(Itemp))\n",
        "    else:\n",
        "      Intertemp_index = []\n",
        "      Intertemp = []\n",
        "      for K in range(k):\n",
        "        if Inter[1][K]==1 and B[K,k]==1:\n",
        "          Intertemp_index.append(K)\n",
        "          Intertemp.append(1)\n",
        "        else: Intertemp.append(0)\n",
        "      if Intertemp_index:\n",
        "        ESPLORA_PLUS(A,Itemp,cardtemp,[Intertemp_index,Intertemp])"
      ],
      "metadata": {
        "id": "A50q7HRS649x"
      },
      "execution_count": null,
      "outputs": []
    },
    {
      "cell_type": "code",
      "source": [
        "def EC_PLUS(A):\n",
        "  global visited, COVcard, NcardSum\n",
        "  for i in range(len(A)):\n",
        "    cardi=A[i].count(1)\n",
        "    NcardSum+=cardi\n",
        "    if cardi==0:\n",
        "      continue\n",
        "    if cardi==len(A[0]):\n",
        "      f_out2.write(\"\".join([\"{\", str(i+1), \"} => cardinality: 1\\n\"]))\n",
        "      visited+=1\n",
        "      COVcard+=1\n",
        "      cardDistribution(COVcardDistrib,1)\n",
        "      cardDistribution(NcardDistrib,len(A[0]))\n",
        "      continue\n",
        "    \n",
        "    cardDistribution(NcardDistrib,cardi)\n",
        "    for j in range(i):\n",
        "      visited+=1\n",
        "      flag=True\n",
        "      for col in range(len(A[i])):\n",
        "        if A[i][col]==1 and A[j][col]==1:\n",
        "          flag=False\n",
        "          break\n",
        "      if flag:\n",
        "        I=[i+1,j+1]\n",
        "        cardU=cardi+A[j].count(1)\n",
        "        if cardU==len(A[i]):\n",
        "          f_out2.write(\"\".join([\"{\", str(sorted(I)).replace('[', '').replace(']',''), \"} => cardinality: 2\\n\"]))\n",
        "          COVcard+=1\n",
        "          cardDistribution(COVcardDistrib,2)\n",
        "        else:\n",
        "          B[j,i]=1\n",
        "          Inter_index=[]\n",
        "          Inter=[]\n",
        "          for r in range(j):\n",
        "            if B[r,i]==1 and B[r,j]==1:\n",
        "              Inter_index.append(r)\n",
        "              Inter.append(1)\n",
        "            else: Inter.append(0)\n",
        "          if Inter_index:\n",
        "            ESPLORA_PLUS(A,I,cardU,[Inter_index,Inter])"
      ],
      "metadata": {
        "id": "cGqD3ll27jO6"
      },
      "execution_count": null,
      "outputs": []
    },
    {
      "cell_type": "code",
      "source": [
        "signal.signal(signal.SIGALRM, handle_timeout)\n",
        "signal.alarm(3600)\n",
        "ended=\"no\"\n",
        "\n",
        "try:\n",
        "    start_time = timeit.default_timer()\n",
        "    EC_PLUS(A_read)\n",
        "    execution_time = timeit.default_timer()-start_time\n",
        "    f_out2.write(\"\\n;;; Time to create partisions: \"+str(execution_time)+\"s\\n\")\n",
        "    ended=\"yes\"\n",
        "except TimeoutError:\n",
        "    execution_time = timeit.default_timer()-start_time\n",
        "    print(\"Time is up. Partitioning in EC+ has been stopped.\")\n",
        "    f_out2.write(\"\\n;;; Time is up. Partitioning in EC+ has been stopped after \"+str(execution_time)+\"s\\n\")\n",
        "except KeyboardInterrupt:\n",
        "    execution_time = timeit.default_timer()-start_time\n",
        "    print(\"Partitioning in EC+ has been stopped by the user.\")\n",
        "    f_out2.write(\"\\n;;; Partitioning in EC+ has been stopped by the user after \"+str(execution_time)+\"s\\n\")\n",
        "finally:\n",
        "    signal.alarm(0)\n",
        "\n",
        "f_out2.write(\"\\n;;; Number of partitions produced by EC+: \"+str(COVcard))\n",
        "for i in range(len(COVcardDistrib)):\n",
        "    f_out2.write(\"\\n;;; Partitions with cardinality \"+str(i+1)+\": \"+str(COVcardDistrib[i])+\" => \"+str(round(COVcardDistrib[i]/COVcard*100,3))+\"%\")\n",
        "        \n",
        "f_out2.write(\"\\n\\n;;; Number of visited nodes: \"+str(visited))\n",
        "try:\n",
        "  dimTotNodes=len(str(tot_nodes))\n",
        "  if dimTotNodes>12:\n",
        "    f_out2.write(\"\\n;;; Number of possible nodes: > 1e\"+str(dimTotNodes-1)+\"\\n;;; Exact number: \"+str(tot_nodes))\n",
        "    f_out2.write(\"\\n;;; Percentage of visited nodes: around 0%\\n;;; Exact percentage: \"+str(visited/tot_nodes*100)+\"%\\n\")\n",
        "  else:\n",
        "    f_out2.write(\"\\n;;; Number of possible nodes: \"+str(tot_nodes))\n",
        "    f_out2.write(\"\\n;;; Percentage of visited nodes: \"+str(visited/tot_nodes*100)+\"%\\n\")\n",
        "except ValueError:\n",
        "  f_out2.write(\"\\n;;; Number of total nodes is too high, so it can't be printed.\\n;;; Percentage of visited nodes: around 0%\\n\")\n",
        "\n",
        "avgN=round(NcardSum/len(A_read), 4)\n",
        "f_out2.write(\"\\n;;; Average cardinality for sets in N (avgN): \"+str(avgN))\n",
        "f_out2.write(\"\\n;;; Aggregate index (avgN/|M|): \"+str(round(avgN/len(A_read[0]),4)))\n",
        "for i in range(len(NcardDistrib)):\n",
        "    f_out2.write(\"\\n;;; Sets in N with cardinality \"+str(i+1)+\": \"+str(NcardDistrib[i])+\" => \"+str(round(NcardDistrib[i]/len(A_read)*100,3))+\"%\")\n",
        "\n",
        "f_out2.close()"
      ],
      "metadata": {
        "id": "irUdCEhFQZtK"
      },
      "execution_count": null,
      "outputs": []
    },
    {
      "cell_type": "code",
      "source": [
        "ECplus_data_for_comparison={\n",
        "    \"Execution ended\": ended,\n",
        "    \"M cardinality\": len(A_read[0]),\n",
        "    \"N cardinality\": len(A_read),\n",
        "    \"Aggregate index\": round(avgN/len(A_read[0]),4),\n",
        "    \"visited nodes\": visited,\n",
        "    \"COV cardinality\": COVcard,\n",
        "    \"COV distribution\": COVcardDistrib,\n",
        "    \"execution time\": execution_time\n",
        "}"
      ],
      "metadata": {
        "id": "kklBGNkzTVQB"
      },
      "execution_count": null,
      "outputs": []
    },
    {
      "cell_type": "code",
      "source": [
        "ECplus_data_for_comparison"
      ],
      "metadata": {
        "colab": {
          "base_uri": "https://localhost:8080/"
        },
        "id": "pRpO1H9HT0Zm",
        "outputId": "633eb853-89d5-4bc5-c86b-cf41394ba3ec"
      },
      "execution_count": null,
      "outputs": [
        {
          "output_type": "execute_result",
          "data": {
            "text/plain": [
              "{'Execution ended': 'yes',\n",
              " 'M cardinality': 7,\n",
              " 'N cardinality': 73,\n",
              " 'Aggregate index': 0.5342,\n",
              " 'visited nodes': 3317,\n",
              " 'COV cardinality': 158,\n",
              " 'COV distribution': [1, 22, 55, 51, 25, 4],\n",
              " 'execution time': 0.03453532399998949}"
            ]
          },
          "metadata": {},
          "execution_count": 23
        }
      ]
    },
    {
      "cell_type": "markdown",
      "source": [
        "---\n",
        "Download del file di output di EC+."
      ],
      "metadata": {
        "id": "k_11fIreOsUz"
      }
    },
    {
      "cell_type": "code",
      "source": [
        "files.download(\"./output2.txt\")"
      ],
      "metadata": {
        "colab": {
          "base_uri": "https://localhost:8080/"
        },
        "id": "Yf8W8MkWOmU6",
        "outputId": "b9b64f05-deab-4993-a868-e2be8220e8a7"
      },
      "execution_count": null,
      "outputs": [
        {
          "output_type": "display_data",
          "data": {
            "text/plain": [
              "<IPython.core.display.Javascript object>"
            ],
            "application/javascript": [
              "\n",
              "    async function download(id, filename, size) {\n",
              "      if (!google.colab.kernel.accessAllowed) {\n",
              "        return;\n",
              "      }\n",
              "      const div = document.createElement('div');\n",
              "      const label = document.createElement('label');\n",
              "      label.textContent = `Downloading \"${filename}\": `;\n",
              "      div.appendChild(label);\n",
              "      const progress = document.createElement('progress');\n",
              "      progress.max = size;\n",
              "      div.appendChild(progress);\n",
              "      document.body.appendChild(div);\n",
              "\n",
              "      const buffers = [];\n",
              "      let downloaded = 0;\n",
              "\n",
              "      const channel = await google.colab.kernel.comms.open(id);\n",
              "      // Send a message to notify the kernel that we're ready.\n",
              "      channel.send({})\n",
              "\n",
              "      for await (const message of channel.messages) {\n",
              "        // Send a message to notify the kernel that we're ready.\n",
              "        channel.send({})\n",
              "        if (message.buffers) {\n",
              "          for (const buffer of message.buffers) {\n",
              "            buffers.push(buffer);\n",
              "            downloaded += buffer.byteLength;\n",
              "            progress.value = downloaded;\n",
              "          }\n",
              "        }\n",
              "      }\n",
              "      const blob = new Blob(buffers, {type: 'application/binary'});\n",
              "      const a = document.createElement('a');\n",
              "      a.href = window.URL.createObjectURL(blob);\n",
              "      a.download = filename;\n",
              "      div.appendChild(a);\n",
              "      a.click();\n",
              "      div.remove();\n",
              "    }\n",
              "  "
            ]
          },
          "metadata": {}
        },
        {
          "output_type": "display_data",
          "data": {
            "text/plain": [
              "<IPython.core.display.Javascript object>"
            ],
            "application/javascript": [
              "download(\"download_f02f455d-e445-4213-af1a-a7df7ac86444\", \"output2.txt\", 6280)"
            ]
          },
          "metadata": {}
        }
      ]
    },
    {
      "cell_type": "markdown",
      "source": [
        "#Confronto diretto\n",
        "Questa sezione è utile ad effettuare un controllo tra la soluzione fornita da EC ed EC+ rispetto allo stesso input.\n",
        "\n",
        "Si è scelto di usare due modalità:\n",
        "\n",
        "1. costruzione di una tabella che racchiude tutte i valori delle variabili principalmente utilizzate, sia per EC che per EC+, e li mette a confronto. Questa tabella riassuntiva viene scritta, in aggiunta, in un file di testo '***comparison.txt***'.\n",
        "\n",
        "2. confronto diretto dei file in uscita da EC ed EC+. Dovendo, i due file, fornire esattamente gli stessi risultati, grazie alla lettura degli stessi vengono segnalate tutte le righe di testo differenti e, quindi, i relativi valori. Ciò è utile a verificare soprattutto le incongruenze dal punto di vista delle partizioni trovare. Tuttavia, tale modalità può risultare lenta in caso di file di output molto grandi."
      ],
      "metadata": {
        "id": "SMMlibckBiq6"
      }
    },
    {
      "cell_type": "markdown",
      "source": [
        "---\n",
        "1. Costruzione della tabella di confronto. Essa verrà stampata nel file '*comparison.txt*'."
      ],
      "metadata": {
        "id": "oM2jV-Cnpare"
      }
    },
    {
      "cell_type": "code",
      "source": [
        "with open('comparison.txt', 'w') as f:\n",
        "\n",
        "  line=\"------------------\"\n",
        "  print(f'{\"Variable\": <20}{\"EC\": <20}{\"EC+\": <20}{\"Different?\": <20}')\n",
        "  f.write(f'{\"Variable\": <20}{\"EC\": <20}{\"EC+\": <20}{\"Different?\": <20}'+\"\\n\")\n",
        "  print(f'{line: <20}{line: <20}{line: <20}{line: <20}')\n",
        "  f.write(f'{line: <20}{line: <20}{line: <20}{line: <20}'+\"\\n\")\n",
        "  print(f'{\"execution ended\": <20}{EC_data_for_comparison[\"Execution ended\"]: <20}{ECplus_data_for_comparison[\"Execution ended\"]: <20}{(\"yes\" if ECplus_data_for_comparison[\"Execution ended\"]!=EC_data_for_comparison[\"Execution ended\"] else \"no\"): <20}')\n",
        "  f.write(f'{\"execution ended\": <20}{EC_data_for_comparison[\"Execution ended\"]: <20}{ECplus_data_for_comparison[\"Execution ended\"]: <20}{(\"yes\" if ECplus_data_for_comparison[\"Execution ended\"]!=EC_data_for_comparison[\"Execution ended\"] else \"no\"): <20}'+\"\\n\")\n",
        "\n",
        "  refuse=[\"COV distribution\", \"Execution ended\", \"execution time\", \"memory usage\"]\n",
        "  for k, v in EC_data_for_comparison.items():\n",
        "    if k not in refuse: \n",
        "      print(f'{k: <20}{round(v,5): <20}{round(ECplus_data_for_comparison[k],6): <20}{(\"no\" if v==ECplus_data_for_comparison[k] else \"yes [\"+str(round(v-ECplus_data_for_comparison[k], 6))+\"]\"): <20}')\n",
        "      f.write(f'{k: <20}{round(v,5): <20}{round(ECplus_data_for_comparison[k],6): <20}{(\"no\" if v==ECplus_data_for_comparison[k] else \"yes [\"+str(round(v-ECplus_data_for_comparison[k], 6))+\"]\"): <20}'+\"\\n\")\n",
        "\n",
        "  print(f'{\"execution time\": <20}{str(round(EC_data_for_comparison[\"execution time\"],6))+\" s\": <20}{str(round(ECplus_data_for_comparison[\"execution time\"],6))+\" s\": <20}{(\"no\" if EC_data_for_comparison[\"execution time\"]==ECplus_data_for_comparison[\"execution time\"] else \"yes [\"+str(round(EC_data_for_comparison[\"execution time\"]-ECplus_data_for_comparison[\"execution time\"], 6))+\" s]\"): <20}')\n",
        "  f.write(f'{\"execution time\": <20}{str(round(EC_data_for_comparison[\"execution time\"],6))+\" s\": <20}{str(round(ECplus_data_for_comparison[\"execution time\"],6))+\" s\": <20}{(\"no\" if EC_data_for_comparison[\"execution time\"]==ECplus_data_for_comparison[\"execution time\"] else \"yes [\"+str(round(EC_data_for_comparison[\"execution time\"]-ECplus_data_for_comparison[\"execution time\"], 6))+\" s]\"): <20}'+\"\\n\")\n",
        "\n",
        "  print(\"\\nCOV distribution for EC: \",EC_data_for_comparison[\"COV distribution\"])\n",
        "  print(\"COV distribution for EC+: \",ECplus_data_for_comparison[\"COV distribution\"])\n",
        "  f.write(\"\\nCOV distribution for EC: \"+str(EC_data_for_comparison[\"COV distribution\"])+\"\\nCOV distribution for EC+: \"+str(ECplus_data_for_comparison[\"COV distribution\"]))\n",
        "\n",
        "  if EC_data_for_comparison[\"COV distribution\"]==ECplus_data_for_comparison['COV distribution']:\n",
        "    print(\"COV distributions are the same.\")\n",
        "    f.write(\"\\nCOV distributions are the same.\")\n",
        "  else:\n",
        "    print(\"COV distributions are different.\")\n",
        "    try:\n",
        "      print([EC_data_for_comparison[\"COV distribution\"][i]-ECplus_data_for_comparison[\"COV distribution\"][i] for i in range(len(EC_data_for_comparison[\"COV distribution\"]))])\n",
        "      f.write(\"\\nCOV distributions are different.\\nDifference: \"+str([EC_data_for_comparison[\"COV distribution\"][i]-ECplus_data_for_comparison[\"COV distribution\"][i] for i in range(len(EC_data_for_comparison[\"COV distribution\"]))]))\n",
        "    except IndexError:\n",
        "      f.write(\"COV distributions are different.\")\n",
        "\n",
        "  f.close()\n"
      ],
      "metadata": {
        "colab": {
          "base_uri": "https://localhost:8080/"
        },
        "id": "owb5Cw1pT7Rj",
        "outputId": "d1f4ba75-e479-4e47-9550-055cb9aafa99"
      },
      "execution_count": null,
      "outputs": [
        {
          "output_type": "stream",
          "name": "stdout",
          "text": [
            "Variable            EC                  EC+                 Different?          \n",
            "------------------  ------------------  ------------------  ------------------  \n",
            "execution ended     yes                 yes                 no                  \n",
            "M cardinality       10                  10                  no                  \n",
            "N cardinality       610                 610                 no                  \n",
            "Aggregate index     0.5103              0.5103              no                  \n",
            "visited nodes       496278              496278              no                  \n",
            "COV cardinality     44115               44115               no                  \n",
            "execution time      16.135023 s         15.493114 s         yes [0.64191 s]     \n",
            "\n",
            "COV distribution for EC:  [1, 199, 2499, 9929, 15743, 11320, 3790, 592, 41, 1]\n",
            "COV distribution for EC+:  [1, 199, 2499, 9929, 15743, 11320, 3790, 592, 41, 1]\n",
            "COV distributions are the same.\n"
          ]
        }
      ]
    },
    {
      "cell_type": "markdown",
      "source": [
        "---\n",
        "2. Confronto tra i file in uscita di EC ed EC+"
      ],
      "metadata": {
        "id": "8PT8ePowBTKu"
      }
    },
    {
      "cell_type": "code",
      "source": [
        "f1 = open(\"output.txt\", \"r\")  \n",
        "f2 = open(\"output2.txt\", \"r\")  \n",
        "\n",
        "i = 0\n",
        "for line1 in f1:\n",
        "    i += 1 \n",
        "    for line2 in f2:\n",
        "        if line1 != line2 and (\"EC\" not in line1 and \"EC+\" not in line2):\n",
        "            print(\"Line \"+str(i)+\":\")\n",
        "            print(\"Output EC:\", line1, end='')\n",
        "            print(\"Output EC+:\", line2, end='')\n",
        "        break\n",
        "f1.close()                                       \n",
        "f2.close()"
      ],
      "metadata": {
        "colab": {
          "base_uri": "https://localhost:8080/"
        },
        "id": "2f9ITEYV6KmH",
        "outputId": "a9532dca-e17f-46f0-89da-bafaa80c6662"
      },
      "execution_count": null,
      "outputs": [
        {
          "output_type": "stream",
          "name": "stdout",
          "text": [
            "Line 44121:\n",
            "Output EC: ;;; Time to create partitions: 16.135023406000016s\n",
            "Output EC+: ;;; Time to create partisions: 15.49311382099998s\n"
          ]
        }
      ]
    },
    {
      "cell_type": "markdown",
      "source": [
        "---\n",
        "Download del file di confronto tra i risultati di EC ed EC+."
      ],
      "metadata": {
        "id": "rJYc8d2ebP2V"
      }
    },
    {
      "cell_type": "code",
      "source": [
        "files.download(\"./comparison.txt\")"
      ],
      "metadata": {
        "colab": {
          "base_uri": "https://localhost:8080/"
        },
        "id": "zqNzsUd5bLm9",
        "outputId": "dc7c66f9-b8c7-4e51-9780-e117c12b7148"
      },
      "execution_count": null,
      "outputs": [
        {
          "output_type": "display_data",
          "data": {
            "text/plain": [
              "<IPython.core.display.Javascript object>"
            ],
            "application/javascript": [
              "\n",
              "    async function download(id, filename, size) {\n",
              "      if (!google.colab.kernel.accessAllowed) {\n",
              "        return;\n",
              "      }\n",
              "      const div = document.createElement('div');\n",
              "      const label = document.createElement('label');\n",
              "      label.textContent = `Downloading \"${filename}\": `;\n",
              "      div.appendChild(label);\n",
              "      const progress = document.createElement('progress');\n",
              "      progress.max = size;\n",
              "      div.appendChild(progress);\n",
              "      document.body.appendChild(div);\n",
              "\n",
              "      const buffers = [];\n",
              "      let downloaded = 0;\n",
              "\n",
              "      const channel = await google.colab.kernel.comms.open(id);\n",
              "      // Send a message to notify the kernel that we're ready.\n",
              "      channel.send({})\n",
              "\n",
              "      for await (const message of channel.messages) {\n",
              "        // Send a message to notify the kernel that we're ready.\n",
              "        channel.send({})\n",
              "        if (message.buffers) {\n",
              "          for (const buffer of message.buffers) {\n",
              "            buffers.push(buffer);\n",
              "            downloaded += buffer.byteLength;\n",
              "            progress.value = downloaded;\n",
              "          }\n",
              "        }\n",
              "      }\n",
              "      const blob = new Blob(buffers, {type: 'application/binary'});\n",
              "      const a = document.createElement('a');\n",
              "      a.href = window.URL.createObjectURL(blob);\n",
              "      a.download = filename;\n",
              "      div.appendChild(a);\n",
              "      a.click();\n",
              "      div.remove();\n",
              "    }\n",
              "  "
            ]
          },
          "metadata": {}
        },
        {
          "output_type": "display_data",
          "data": {
            "text/plain": [
              "<IPython.core.display.Javascript object>"
            ],
            "application/javascript": [
              "download(\"download_44dba3e8-01a4-48c8-b1b6-c7d8cb0e3979\", \"comparison.txt\", 918)"
            ]
          },
          "metadata": {}
        }
      ]
    },
    {
      "cell_type": "markdown",
      "source": [
        "---\n",
        "---\n",
        "# **Sperimentazione**\n",
        "##Confronto multiplo\n",
        "\n",
        "Il seguente codice è utilizzato per effettuare un confronto ed evidenziare le differenze tra EC ed EC+ su più casi. In particolare:\n",
        "- vengono implementati 6 casi differenti per cardinalità di M e di N, dei quali si producono i rispettivi file di input;\n",
        "- vengono generati i file di output per le due versioni dell'algoritmo;\n",
        "- vengono generati i file per il confronto diretto tra i risultati dei due algoritmi;\n",
        "- vengono generati e visualizzati dei grafici che mostrano le variazioni nei risultati ottenuti dai due algoritmi in base a determinate caratteristiche (cardinalità degli insiemi coinvolti, tempi di esecuzione)."
      ],
      "metadata": {
        "id": "VVFeqSeW8t0c"
      }
    },
    {
      "cell_type": "markdown",
      "source": [
        "Nella lista '*MlenList*' è possibile definire i valori del dominio M su cui si vuole effettuare il confronto."
      ],
      "metadata": {
        "id": "FCSFM7Mgjo5I"
      }
    },
    {
      "cell_type": "code",
      "source": [
        "MlenList=sorted([4, 5, 6, 8, 10, 12])\n",
        "NlenList=[]\n",
        "aggregate_indexes=[]\n",
        "COVlenList_EC=[]\n",
        "COVlenList_ECplus=[]\n",
        "execution_time_table_EC = []\n",
        "execution_time_table_ECplus = []"
      ],
      "metadata": {
        "id": "zP4v9rMojnot"
      },
      "execution_count": null,
      "outputs": []
    },
    {
      "cell_type": "markdown",
      "source": [
        "---\n",
        "Creazione delle cartelle \n",
        "---\n",
        "\n",
        "Creazione delle cartelle per il salvataggio dei file di input e output, di confronto diretto e delle immagini, utili ad un'ulteriore verifica del funzionamento di EC ed EC+ e per effettuare il confronto tra i risultati ottenuti."
      ],
      "metadata": {
        "id": "-qaeuV25O-yt"
      }
    },
    {
      "cell_type": "code",
      "source": [
        "dirComparison = 'comparison'\n",
        "dirInput = 'comparison/input'\n",
        "dirOutputEC = 'comparison/outputEC'\n",
        "dirOutputECplus = 'comparison/outputEC+'\n",
        "dirComparisonTab = 'comparison/comparison_tables'\n",
        "dirImages='comparison/images'\n",
        "\n",
        "try:\n",
        "  sh.rmtree(dirComparison)\n",
        "except FileNotFoundError:\n",
        "  os.mkdir(dirComparison)\n",
        "  print(\"Directory '\"+str(dirComparison)+\"' created \")\n",
        "finally:\n",
        "  os.mkdir(dirInput)\n",
        "  print(\"Directory '\"+str(dirInput)+\"' created \")\n",
        "\n",
        "  os.mkdir(dirOutputEC)\n",
        "  print(\"Directory '\"+str(dirOutputEC)+\"' created \")\n",
        "\n",
        "  os.mkdir(dirOutputECplus)\n",
        "  print(\"Directory '\"+str(dirOutputECplus)+\"' created \")\n",
        "\n",
        "  os.mkdir(dirComparisonTab)\n",
        "  print(\"Directory '\"+str(dirComparisonTab)+\"' created \")\n",
        "\n",
        "  os.mkdir(dirImages)\n",
        "  print(\"Directory '\"+str(dirImages)+\"' created \")"
      ],
      "metadata": {
        "colab": {
          "base_uri": "https://localhost:8080/"
        },
        "id": "yO3pqDCb_Xt1",
        "outputId": "1ad9fcc1-6f06-4a7a-8b59-d590a2fa456c"
      },
      "execution_count": null,
      "outputs": [
        {
          "output_type": "stream",
          "name": "stdout",
          "text": [
            "Directory 'comparison' created \n",
            "Directory 'comparison/input' created \n",
            "Directory 'comparison/outputEC' created \n",
            "Directory 'comparison/outputEC+' created \n",
            "Directory 'comparison/comparison_tables' created \n",
            "Directory 'comparison/images' created \n"
          ]
        }
      ]
    },
    {
      "cell_type": "markdown",
      "source": [
        "---\n",
        "Creazione dei file di input\n",
        "---"
      ],
      "metadata": {
        "id": "3ipUhqEiPXly"
      }
    },
    {
      "cell_type": "code",
      "source": [
        "for index, givenM in enumerate(MlenList):\n",
        "    \n",
        "    start_time = timeit.default_timer()\n",
        "\n",
        "    lengthM = givenM\n",
        "    M = set()\n",
        "    while len(M)<lengthM:\n",
        "      M.add(r.choice(string.ascii_lowercase)+str(r.randint(1,9)))\n",
        "\n",
        "    max_comb = 0\n",
        "    for k in range(1,lengthM):\n",
        "      binom = bin(lengthM, k)\n",
        "      max_comb += binom\n",
        "    lengthN = round(max_comb/2)\n",
        "    NlenList.append(lengthN)\n",
        "    N = set()\n",
        "    lmin, lmax = round(lengthN/3), lengthN\n",
        "    while len(N)<lengthN:\n",
        "      if len(N)<r.randint(lmin, lmax): N.add(frozenset(r.sample(M, k=r.randint(round(lengthM/2), lengthM))))\n",
        "      else: N.add(frozenset(r.sample(M, k=r.randint(1,round(lengthM/2)))))\n",
        "\n",
        "    M = tuple(M)\n",
        "    N = tuple([tuple(x) for x in N])\n",
        "    strN = str(N).replace('(', '{').replace(')','}').replace(',}','}')\n",
        "\n",
        "    cardsum=0\n",
        "    NcardDistrib=[0]*lengthM\n",
        "    for elem in N:\n",
        "      cardsum+=len(elem)\n",
        "      cardDistribution(NcardDistrib,len(elem))\n",
        "    avgN=round(cardsum/len(N), 4)\n",
        "\n",
        "    with open('comparison/input/input_M'+str(index)+'.txt', 'w') as f:\n",
        "        f.write(\"\".join([\n",
        "        \";;; M = {\", ', '.join(M), \"}\\n\",\n",
        "        \";;; N = \", strN.replace('\\'',''), \"\\n\\n\",\n",
        "        \";;; A =\\n\"]))\n",
        "    \n",
        "        for i in range(lengthN):\n",
        "          A_row=[1 if (M[j] in N[i]) else 0 for j in range(lengthM)]\n",
        "          f.write(str(A_row).replace('[','').replace(']','').replace(',',''))\n",
        "          if i!=lengthN-1: f.write(\" -\\n\")\n",
        "\n",
        "        f.write(\"\".join([\"\\n\\n;;; Cardinality of domain M: \", str(lengthM),\n",
        "                \"\\n;;; M indexes from 1 to \", str(lengthM),\n",
        "                \"\\n;;; Cardinality of collection N: \", str(lengthN),\n",
        "                \"\\n;;; N indexes from 1 to \", str(lengthN),\n",
        "                \"\\n;;; Average cardinality for sets in N (avgN): \", str(avgN),\n",
        "                \"\\n;;; Aggregate index (avgN/|M|): \", str(round(avgN/lengthM,4))]))\n",
        "        aggregate_indexes.append(round(avgN/lengthM,4))\n",
        "        for i in range(lengthM):\n",
        "          f.write(\"\\n;;; Sets in N with cardinality \"+str(i+1)+\": \"+str(NcardDistrib[i])+\" => \"+str(round(NcardDistrib[i]/lengthN*100,3))+\"%\")\n",
        "\n",
        "        f.write(\"\\n;;; Time to build and save A: \"+str(timeit.default_timer()-start_time)+\"s\")\n",
        "        f.close()\n",
        "\n",
        "    sh.copy2('comparison/input/input_M'+str(index)+'.txt','comparison/input/indexes_M'+str(index)+'.txt')\n",
        "    with open('comparison/input/indexes_M'+str(index)+'.txt', 'a') as f:\n",
        "      f.write(\"\\n\\n;;; M indexes:\")\n",
        "      for i in range(lengthM):\n",
        "        f.write(\"\\n;;; \"+str(i+1)+\"->\"+str(M[i]))\n",
        "      f.write(\"\\n\\n;;; N indexes:\")\n",
        "      for i in range(lengthN):\n",
        "        f.write(\"\\n;;; \"+str(i+1)+\"->\"+str(N[i]).replace('(', '{').replace(')','}').replace('\\'', '').replace(',}','}'))\n",
        "      f.close()"
      ],
      "metadata": {
        "id": "RKaXP2Gu9RGv"
      },
      "execution_count": null,
      "outputs": []
    },
    {
      "cell_type": "code",
      "source": [
        "NlenList"
      ],
      "metadata": {
        "colab": {
          "base_uri": "https://localhost:8080/"
        },
        "id": "HpzmhCNCgxWt",
        "outputId": "3327c155-4c21-4d11-bead-1b8ae10e1e2c"
      },
      "execution_count": null,
      "outputs": [
        {
          "output_type": "execute_result",
          "data": {
            "text/plain": [
              "[7, 15, 31, 127, 511, 2047, 7, 15, 31, 127, 511, 2047]"
            ]
          },
          "metadata": {},
          "execution_count": 141
        }
      ]
    },
    {
      "cell_type": "markdown",
      "source": [
        "---\n",
        "Esecuzione degli algoritmi\n",
        "---\n",
        "Esecuzione degli algoritmi EC ed EC+ e generazione dei file di output."
      ],
      "metadata": {
        "id": "Lljh4tjnPuSO"
      }
    },
    {
      "cell_type": "code",
      "source": [
        "for index in range(len(MlenList)):\n",
        "\n",
        "  with open('comparison/input/input_M'+str(index)+'.txt', \"r\") as f:  \n",
        "    \n",
        "    # --- Lettura file input ---\n",
        "\n",
        "    A_read = [line for line in f if (\";;;\" not in line and line.strip())]\n",
        "    f.close()\n",
        "    stop=len(A_read)\n",
        "  for i in range(len(A_read)) :\n",
        "    A_read[i]=A_read[i].split()\n",
        "    if \"-\" in A_read[i]: \n",
        "      A_read[i].remove(\"-\")\n",
        "    if i==0:\n",
        "      minmaxlen=len(A_read[0])\n",
        "    try:\n",
        "      A_read[i]=tuple([int(elem) for elem in A_read[i] if (int(elem)==1 or int(elem)==0)])\n",
        "      if len(A_read[i])!=minmaxlen:\n",
        "          print(\"Error in building A: rows have not the same length.\")\n",
        "          stop=i\n",
        "          break\n",
        "      elif A_read[i].count(1)==0:\n",
        "        print(\"Error in building A: rows contain an all zeros row.\")\n",
        "        stop=i\n",
        "        break\n",
        "    except ValueError:\n",
        "      print(\"Error in building A: rows in file contain not integer elements.\")\n",
        "      stop=0\n",
        "      break\n",
        "  if(stop!=len(A_read)):\n",
        "    print(\"A matrix not imported.\")\n",
        "    del A_read\n",
        "  else:\n",
        "    A_read=tuple(A_read)\n",
        "\n",
        "\n",
        "     # --- Esecuzione di EC ---\n",
        "\n",
        "  B = lilmat((len(A_read),len(A_read)),dtype=int)\n",
        "  visited = 0\n",
        "  tot_nodes = 2**len(A_read)-1\n",
        "  COVcard = 0\n",
        "  COVcardDistrib = []\n",
        "  NcardSum = 0\n",
        "\n",
        "  f_out = open('comparison/outputEC/output_M'+str(index)+'.txt', 'w+')\n",
        "  f_out.write(\"\".join([';;; Cardinality of domain M: ', str(len(A_read[0])),\n",
        "              '\\n;;; Cardinality of collection N: ', str(len(A_read)), \n",
        "              '\\n\\n;;; Partitions EC: \\n']))\n",
        "  ended=\"no\"\n",
        "  signal.signal(signal.SIGALRM, handle_timeout)\n",
        "  signal.alarm(3600)\n",
        "  try:\n",
        "      start_time = timeit.default_timer()\n",
        "      EC(A_read)\n",
        "      execution_time = timeit.default_timer()-start_time\n",
        "      execution_time_table_EC.append(execution_time)\n",
        "      f_out.write(\"\\n;;; Time to create partitions: \"+str(execution_time)+\"s\\n\")\n",
        "      ended=\"yes\"\n",
        "  except TimeoutError:\n",
        "      print(\"Time is up. Partitioning in EC has been stopped.\")\n",
        "      f_out.write(\"\\n;;; Time is up. Partitioning in EC has been stopped after \"+str(timeit.default_timer()-start_time)+\"s\\n\")\n",
        "  except KeyboardInterrupt:\n",
        "      print(\"Partitioning in EC has been stopped by the user.\")\n",
        "      f_out.write(\"\\n;;; Partitioning in EC has been stopped by the user after \"+str(timeit.default_timer()-start_time)+\"s\\n\")\n",
        "  finally:\n",
        "      signal.alarm(0)\n",
        "  f_out.write(\"\\n;;; Number of partitions produced by EC: \"+str(COVcard))\n",
        "  COVlenList_EC.append(COVcard)\n",
        "  for i in range(len(COVcardDistrib)):\n",
        "    f_out.write(\"\\n;;; Partitions with cardinality \"+str(i+1)+\": \"+str(COVcardDistrib[i])+\" => \"+str(round(COVcardDistrib[i]/COVcard*100,3))+\"%\")\n",
        "  f_out.write(\"\\n\\n;;; Number of visited nodes: \"+str(visited))\n",
        "  try:\n",
        "    dimTotNodes=len(str(tot_nodes))\n",
        "    if dimTotNodes>12:\n",
        "      f_out.write(\"\\n;;; Number of possible nodes: > 1e\"+str(dimTotNodes-1)+\"\\n;;; Exact number: \"+str(tot_nodes))\n",
        "      f_out.write(\"\\n;;; Percentage of visited nodes: around 0%\\n;;; Exact percentage: \"+str(visited/tot_nodes*100)+\"%\\n\")\n",
        "    else:\n",
        "      f_out.write(\"\\n;;; Number of possible nodes: \"+str(tot_nodes))\n",
        "      f_out.write(\"\\n;;; Percentage of visited nodes: \"+str(visited/tot_nodes*100)+\"%\\n\")\n",
        "  except ValueError:\n",
        "      f_out.write(\"\\n;;; Number of total nodes is too high, so it can't be printed.\\n;;; Percentage of visited nodes: around 0%\\n\")\n",
        "  finally:\n",
        "    avgN=round(NcardSum/len(A_read), 4)\n",
        "    f_out.write(\"\\n;;; Average cardinality for sets in N (avgN): \"+str(avgN))\n",
        "    f_out.write(\"\\n;;; Aggregate index (avgN/|M|): \"+str(round(avgN/len(A_read[0]),4)))\n",
        "    f_out.close()\n",
        "  \n",
        "  EC_data_for_comparison={\n",
        "    \"Execution ended\": ended,\n",
        "    \"M cardinality\": len(A_read[0]),\n",
        "    \"N cardinality\": len(A_read),\n",
        "    \"Aggregate index\": round(avgN/len(A_read[0]),4),\n",
        "    \"visited nodes\": visited,\n",
        "    \"COV cardinality\": COVcard,\n",
        "    \"COV distribution\": COVcardDistrib,\n",
        "    \"execution time\": execution_time\n",
        "  }\n",
        "\n",
        "\n",
        "    # --- Esecuzione di EC+ ---\n",
        "\n",
        "  B = lilmat((len(A_read),len(A_read)),dtype=int)\n",
        "  visited = 0\n",
        "  tot_nodes = 2**len(A_read)-1\n",
        "  COVcard = 0\n",
        "  COVcardDistrib = []\n",
        "  NcardSum = 0\n",
        "  NcardDistrib=[0]*len(A_read[0])\n",
        "\n",
        "\n",
        "  f_out2 = open('comparison/outputEC+/output_M'+str(index)+'_plus.txt', 'w+')\n",
        "  f_out2.write(\"\".join([';;; Cardinality of domain M: ', str(len(A_read[0])),\n",
        "              '\\n;;; Cardinality of collection N: ', str(len(A_read)), \n",
        "              '\\n\\n;;; Partitions EC+: \\n']))\n",
        "  ended=\"no\"\n",
        "  signal.signal(signal.SIGALRM, handle_timeout)\n",
        "  signal.alarm(3600)\n",
        "  try:\n",
        "      start_time = timeit.default_timer()\n",
        "      EC_PLUS(A_read)\n",
        "      execution_time = timeit.default_timer()-start_time\n",
        "      execution_time_table_ECplus.append(execution_time)\n",
        "      f_out2.write(\"\\n;;; Time to create partitions: \"+str(execution_time)+\"s\\n\")\n",
        "      ended=\"yes\"\n",
        "  except TimeoutError:\n",
        "      print(\"Time is up. Partitioning in EC+ has been stopped.\")\n",
        "      f_out2.write(\"\\n;;; Time is up. Partitioning in EC+ has been stopped after \"+str(timeit.default_timer()-start_time)+\"s\\n\")\n",
        "  except KeyboardInterrupt:\n",
        "      print(\"Partitioning in EC+ has been stopped by the user.\")\n",
        "      f_out2.write(\"\\n;;; Partitioning in EC+ has been stopped by the user after \"+str(timeit.default_timer()-start_time)+\"s\\n\")\n",
        "  finally:\n",
        "      signal.alarm(0)\n",
        "\n",
        "\n",
        "  f_out2.write(\"\\n;;; Number of partitions produced by EC+: \"+str(COVcard))\n",
        "  COVlenList_ECplus.append(COVcard)\n",
        "  for i in range(len(COVcardDistrib)):\n",
        "    f_out2.write(\"\\n;;; Partitions with cardinality \"+str(i+1)+\": \"+str(COVcardDistrib[i])+\" => \"+str(round(COVcardDistrib[i]/COVcard*100,3))+\"%\")\n",
        "  f_out2.write(\"\\n\\n;;; Number of visited nodes: \"+str(visited))\n",
        "  try:\n",
        "    dimTotNodes=len(str(tot_nodes))\n",
        "    if dimTotNodes>12:\n",
        "      f_out2.write(\"\\n;;; Number of possible nodes: > 1e\"+str(dimTotNodes-1)+\"\\n;;; Exact number: \"+str(tot_nodes))\n",
        "      f_out2.write(\"\\n;;; Percentage of visited nodes: around 0%\\n;;; Exact percentage: \"+str(visited/tot_nodes*100)+\"%\\n\")\n",
        "    else:\n",
        "      f_out2.write(\"\\n;;; Number of possible nodes: \"+str(tot_nodes))\n",
        "      f_out2.write(\"\\n;;; Percentage of visited nodes: \"+str(visited/tot_nodes*100)+\"%\\n\")\n",
        "  except ValueError:\n",
        "      f_out2.write(\"\\n;;; Number of total nodes is too high, so it can't be printed.\\n;;; Percentage of visited nodes: around 0%\\n\")\n",
        "  finally:\n",
        "    avgN=round(NcardSum/len(A_read), 4)\n",
        "    f_out2.write(\"\\n;;; Average cardinality for sets in N (avgN): \"+str(avgN))\n",
        "    f_out2.write(\"\\n;;; Aggregate index (avgN/|M|): \"+str(round(avgN/len(A_read[0]),4)))\n",
        "    for i in range(len(NcardDistrib)):\n",
        "      f_out2.write(\"\\n;;; Sets in N with cardinality \"+str(i+1)+\": \"+str(NcardDistrib[i])+\" => \"+str(round(NcardDistrib[i]/len(A_read)*100,3))+\"%\")\n",
        "    f_out2.close()\n",
        "\n",
        "  ECplus_data_for_comparison={\n",
        "    \"Execution ended\": ended,\n",
        "    \"M cardinality\": len(A_read[0]),\n",
        "    \"N cardinality\": len(A_read),\n",
        "    \"Aggregate index\": round(avgN/len(A_read[0]),4),\n",
        "    \"visited nodes\": visited,\n",
        "    \"COV cardinality\": COVcard,\n",
        "    \"COV distribution\": COVcardDistrib,\n",
        "    \"execution time\": execution_time\n",
        "  }\n",
        "\n",
        "\n",
        "  # -- Stampa del confronto diretto --\n",
        "\n",
        "  with open('comparison/comparison_tables/comparison_M'+str(index)+'.txt', 'w') as f:\n",
        "\n",
        "    line=\"------------------\"\n",
        "    f.write(f'{\"Variable\": <20}{\"EC\": <20}{\"EC+\": <20}{\"Different?\": <20}'+\"\\n\")\n",
        "    f.write(f'{line: <20}{line: <20}{line: <20}{line: <20}'+\"\\n\")\n",
        "    f.write(f'{\"execution ended\": <20}{EC_data_for_comparison[\"Execution ended\"]: <20}{ECplus_data_for_comparison[\"Execution ended\"]: <20}{(\"yes\" if ECplus_data_for_comparison[\"Execution ended\"]!=EC_data_for_comparison[\"Execution ended\"] else \"no\"): <20}'+\"\\n\")\n",
        "\n",
        "    refuse=[\"COV distribution\", \"Execution ended\", \"execution time\", \"memory usage\"]\n",
        "    for k, v in EC_data_for_comparison.items():\n",
        "      if k not in refuse: \n",
        "        f.write(f'{k: <20}{round(v,5): <20}{round(ECplus_data_for_comparison[k],6): <20}{(\"no\" if v==ECplus_data_for_comparison[k] else \"yes [\"+str(round(v-ECplus_data_for_comparison[k], 6))+\"]\"): <20}'+\"\\n\")\n",
        "    f.write(f'{\"execution time\": <20}{str(round(EC_data_for_comparison[\"execution time\"],6))+\" s\": <20}{str(round(ECplus_data_for_comparison[\"execution time\"],6))+\" s\": <20}{(\"no\" if EC_data_for_comparison[\"execution time\"]==ECplus_data_for_comparison[\"execution time\"] else \"yes [\"+str(round(EC_data_for_comparison[\"execution time\"]-ECplus_data_for_comparison[\"execution time\"], 6))+\" s]\"): <20}'+\"\\n\")\n",
        "\n",
        "    f.write(\"\\nCOV distribution for EC: \"+str(EC_data_for_comparison[\"COV distribution\"])+\"\\nCOV distribution for EC+: \"+str(ECplus_data_for_comparison[\"COV distribution\"]))\n",
        "    if EC_data_for_comparison[\"COV distribution\"]==ECplus_data_for_comparison['COV distribution']:\n",
        "      f.write(\"\\nCOV distributions are the same.\")\n",
        "    else:\n",
        "      try:\n",
        "        f.write(\"\\nCOV distributions are different.\\nDifference: \"+str([EC_data_for_comparison[\"COV distribution\"][i]-ECplus_data_for_comparison[\"COV distribution\"][i] for i in range(len(EC_data_for_comparison[\"COV distribution\"]))]))\n",
        "      except IndexError:\n",
        "        f.write(\"\\nCOV distributions are different.\")\n",
        "\n",
        "    f.close()\n",
        "  "
      ],
      "metadata": {
        "id": "3Ij7yhwz836U"
      },
      "execution_count": null,
      "outputs": []
    },
    {
      "cell_type": "markdown",
      "source": [
        "---\n",
        "Visualizzazione degli andamenti\n",
        "---"
      ],
      "metadata": {
        "id": "FaCu1GrtQFFc"
      }
    },
    {
      "cell_type": "markdown",
      "source": [
        "1. Evoluzione della cardinalità di M al variare dell'esperimento associato."
      ],
      "metadata": {
        "id": "0fbLbpo9bte-"
      }
    },
    {
      "cell_type": "code",
      "source": [
        "x = range(len(MlenList))\n",
        "print(\"x =\",x)\n",
        "y = MlenList\n",
        "print(\"y =\",y)\n",
        "plt.figure(figsize=(8, 5))\n",
        "plt.plot(x, y, 'ro-', markersize=4)\n",
        "plt.grid(linewidth = 0.5)\n",
        "plt.xlabel('Experiment number')\n",
        "plt.ylabel('Cardinality of domain M')\n",
        "plt.title('Cardinality of M for each experiment')\n",
        "\n",
        "plt.savefig('./comparison/images/cardinalityM.png')\n",
        "plt.show()"
      ],
      "metadata": {
        "id": "mwGfLkXzA2Ie",
        "colab": {
          "base_uri": "https://localhost:8080/",
          "height": 385
        },
        "outputId": "138a55bd-e276-415b-ab4c-344928d15afb"
      },
      "execution_count": null,
      "outputs": [
        {
          "output_type": "stream",
          "name": "stdout",
          "text": [
            "x = range(0, 6)\n",
            "y = [4, 5, 6, 8, 10, 12]\n"
          ]
        },
        {
          "output_type": "display_data",
          "data": {
            "text/plain": [
              "<Figure size 576x360 with 1 Axes>"
            ],
            "image/png": "[encoded data removed]"
          },
          "metadata": {
            "needs_background": "light"
          }
        }
      ]
    },
    {
      "cell_type": "markdown",
      "source": [
        "---\n",
        "2. Evoluzione della cardinalità della collezione N in base al valore della cardinalità di M."
      ],
      "metadata": {
        "id": "20MQEiLvhPxX"
      }
    },
    {
      "cell_type": "code",
      "source": [
        "NlenList=[]\n",
        "for index, givenM in enumerate(MlenList):\n",
        "  lengthM = givenM\n",
        "  max_comb = 0\n",
        "  for k in range(1,lengthM):\n",
        "    binom = bin(lengthM, k)\n",
        "    max_comb += binom\n",
        "  lengthN = round(max_comb/2)\n",
        "  NlenList.append(lengthN)"
      ],
      "metadata": {
        "id": "SOVxu1kkD8gN"
      },
      "execution_count": null,
      "outputs": []
    },
    {
      "cell_type": "code",
      "source": [
        "x = MlenList\n",
        "print(\"x =\",x)\n",
        "y = NlenList\n",
        "print(\"y =\",y)\n",
        "plt.figure(figsize=(8, 5))\n",
        "plt.plot(x, y, 'bo-', markersize=4)\n",
        "plt.grid(linewidth = 0.5)\n",
        "plt.xlabel('Cardinality of domain M')\n",
        "plt.ylabel('Cardinality of collection N')\n",
        "plt.title('Evolution of cardinalities (M-N)')\n",
        "\n",
        "plt.savefig('./comparison/images/evolMN.png')\n",
        "plt.show()"
      ],
      "metadata": {
        "id": "DnmfzEkaUEa8",
        "colab": {
          "base_uri": "https://localhost:8080/",
          "height": 385
        },
        "outputId": "78f81a38-e8f7-407d-b7ee-2de2b70cc608"
      },
      "execution_count": null,
      "outputs": [
        {
          "output_type": "stream",
          "name": "stdout",
          "text": [
            "x = [4, 5, 6, 8, 10, 12]\n",
            "y = [7, 15, 31, 127, 511, 2047]\n"
          ]
        },
        {
          "output_type": "display_data",
          "data": {
            "text/plain": [
              "<Figure size 576x360 with 1 Axes>"
            ],
            "image/png": "[encoded data removed]"
          },
          "metadata": {
            "needs_background": "light"
          }
        }
      ]
    },
    {
      "cell_type": "markdown",
      "source": [
        "---\n",
        "3. Valore dell'aggregate index al variare dell'esperimento associato."
      ],
      "metadata": {
        "id": "5vCCpmdBcHwn"
      }
    },
    {
      "cell_type": "code",
      "source": [
        "x = range(len(MlenList))\n",
        "print(\"x =\",x)\n",
        "y = aggregate_indexes\n",
        "print(\"y =\",y)\n",
        "plt.figure(figsize=(8, 5))\n",
        "plt.plot(x, y, 'ro', markersize=8)\n",
        "plt.grid(linewidth = 0.5)\n",
        "plt.xlabel('Experiment number')\n",
        "plt.ylabel('Aggregate indexes')\n",
        "plt.title('Aggregate indexes for each experiment')\n",
        "\n",
        "plt.savefig('./comparison/images/aggregateIndexes.png')\n",
        "plt.show()"
      ],
      "metadata": {
        "id": "vnu4rCHI_8Hy",
        "colab": {
          "base_uri": "https://localhost:8080/",
          "height": 385
        },
        "outputId": "70800d86-f001-4122-a2c1-2b6c75006e71"
      },
      "execution_count": null,
      "outputs": [
        {
          "output_type": "stream",
          "name": "stdout",
          "text": [
            "x = range(0, 6)\n",
            "y = [0.4643, 0.48, 0.4678, 0.4685, 0.4759, 0.4717]\n"
          ]
        },
        {
          "output_type": "display_data",
          "data": {
            "text/plain": [
              "<Figure size 576x360 with 1 Axes>"
            ],
            "image/png": "[encoded data removed]"
          },
          "metadata": {
            "needs_background": "light"
          }
        }
      ]
    },
    {
      "cell_type": "markdown",
      "source": [
        "---\n",
        "4.  Evoluzione della cardinalità dell'insieme delle partizioni risultante COV al variare dell'esperimento associato."
      ],
      "metadata": {
        "id": "qfE2Gabqx4Yo"
      }
    },
    {
      "cell_type": "code",
      "source": [
        "x = range(len(MlenList))\n",
        "print(\"x =\", x)\n",
        "plt.figure(figsize=(8, 5))\n",
        "\n",
        "y1 = COVlenList_EC\n",
        "print(\"y1 =\", y1)\n",
        "plt.plot(x, y1, 'bo-', markersize=4, label = \"COV cardinality for EC\")\n",
        "  \n",
        "y2 = COVlenList_ECplus\n",
        "print(\"y2 =\", y2)\n",
        "plt.plot(x, y2, 'rs-', markersize=4, label = \"COV cardinality for EC+\")\n",
        "\n",
        "plt.grid(linewidth = 0.5)\n",
        "plt.xlabel('Experiment number')\n",
        "plt.ylabel('Cardinality of partitions set COV')\n",
        "plt.title('Comparison of COV cardinality for EC and EC+')\n",
        "\n",
        "plt.savefig('./comparison/images/evolCOV.png')\n",
        "plt.show()"
      ],
      "metadata": {
        "id": "sHmpEvyTwCJH",
        "colab": {
          "base_uri": "https://localhost:8080/",
          "height": 402
        },
        "outputId": "f92a726d-1bc9-4804-a6d8-f198d61f0df5"
      },
      "execution_count": null,
      "outputs": [
        {
          "output_type": "stream",
          "name": "stdout",
          "text": [
            "x = range(0, 6)\n",
            "y1 = [3, 12, 52, 1245, 56752, 2915956]\n",
            "y2 = [3, 12, 52, 1245, 56752, 2915956]\n"
          ]
        },
        {
          "output_type": "display_data",
          "data": {
            "text/plain": [
              "<Figure size 576x360 with 1 Axes>"
            ],
            "image/png": "[encoded data removed]"
          },
          "metadata": {
            "needs_background": "light"
          }
        }
      ]
    },
    {
      "cell_type": "markdown",
      "source": [
        "---\n",
        "5.  Evoluzione della cardinalità dell'insieme delle partizioni risultante COV in base al valore della cardinalità di N."
      ],
      "metadata": {
        "id": "By3Qbvu2yC6X"
      }
    },
    {
      "cell_type": "code",
      "source": [
        "x = NlenList\n",
        "print(\"x =\", x)\n",
        "plt.figure(figsize=(12, 6))\n",
        "\n",
        "y1 = COVlenList_EC\n",
        "print(\"y1 =\", y1)\n",
        "plt.plot(x, y1, 'bo-', markersize=3, label = \"COV cardinality for EC\")\n",
        "  \n",
        "y2 = COVlenList_ECplus\n",
        "print(\"y2 =\", y2)\n",
        "plt.plot(x, y2, 'rs-', markersize=3, label = \"COV cardinality for EC+\")\n",
        "\n",
        "plt.grid(linewidth = 0.5)\n",
        "plt.xlabel('Cardinality of collection N')\n",
        "plt.ylabel('Cardinality of partitions set COV')\n",
        "plt.title('Comparison of COV cardinality for EC and EC+ (N)')\n",
        "\n",
        "plt.savefig('./comparison/images/evolNCOV.png')\n",
        "plt.show()"
      ],
      "metadata": {
        "id": "JECkvFd8wZl_",
        "colab": {
          "base_uri": "https://localhost:8080/",
          "height": 456
        },
        "outputId": "41bb9a6c-4289-4040-dee0-d23cf49628cb"
      },
      "execution_count": null,
      "outputs": [
        {
          "output_type": "stream",
          "name": "stdout",
          "text": [
            "x = [7, 15, 31, 127, 511, 2047]\n",
            "y1 = [3, 12, 52, 1245, 56752, 2915956]\n",
            "y2 = [3, 12, 52, 1245, 56752, 2915956]\n"
          ]
        },
        {
          "output_type": "display_data",
          "data": {
            "text/plain": [
              "<Figure size 864x432 with 1 Axes>"
            ],
            "image/png": "[encoded data removed]"
          },
          "metadata": {
            "needs_background": "light"
          }
        }
      ]
    },
    {
      "cell_type": "markdown",
      "source": [
        "---\n",
        "6. Evoluzione del tempo di esecuzione di EC ed EC+ al variare dell'esperimento associato."
      ],
      "metadata": {
        "id": "fiYajv3Bh9IM"
      }
    },
    {
      "cell_type": "code",
      "source": [
        "x = range(len(MlenList))\n",
        "plt.figure(figsize=(12, 6))\n",
        "\n",
        "y1 = execution_time_table_EC \n",
        "plt.plot(x, y1, 'mo-', markersize=3, linewidth=1, label = \"Execution time for EC\")\n",
        "  \n",
        "y2 = execution_time_table_ECplus \n",
        "plt.plot(x, y2, 'bs-', markersize=3, linewidth=1, label = \"Execution time for EC+\")\n",
        "\n",
        "plt.grid(linewidth = 0.5)\n",
        "plt.xlabel('Experiment number')\n",
        "plt.ylabel('Execution time [s]')\n",
        "plt.title('Comparison of EC and EC+ execution time')\n",
        "\n",
        "plt.legend()\n",
        "plt.savefig('./comparison/images/compareExecution.png')\n",
        "plt.show()"
      ],
      "metadata": {
        "id": "Itt2bjytLO0t",
        "colab": {
          "base_uri": "https://localhost:8080/",
          "height": 404
        },
        "outputId": "98539e9c-62f7-4e4f-be68-32742ca1b937"
      },
      "execution_count": null,
      "outputs": [
        {
          "output_type": "display_data",
          "data": {
            "text/plain": [
              "<Figure size 864x432 with 1 Axes>"
            ],
            "image/png": "[encoded data removed]"
          },
          "metadata": {
            "needs_background": "light"
          }
        }
      ]
    },
    {
      "cell_type": "markdown",
      "source": [
        "---\n",
        "7. Evoluzione della differenza dei tempi di esecuzione di EC ed EC+ al variare dell'esperimento associato."
      ],
      "metadata": {
        "id": "nhBmCC2PiRGH"
      }
    },
    {
      "cell_type": "code",
      "source": [
        "x = range(len(MlenList))\n",
        "y_diff = [execution_time_table_EC[i]-execution_time_table_ECplus[i] for i in range(len(execution_time_table_EC))]\n",
        "plt.figure(figsize=(12, 6))\n",
        "plt.plot(x, y_diff, 'ys-', markersize=4, label = \"Difference between execution time of EC and EC+\")\n",
        "plt.grid(linewidth = 0.5)\n",
        "plt.xlabel('Experiment number')\n",
        "plt.ylabel('Execution time [s]')\n",
        "plt.title('Difference between execution time of EC and EC+')\n",
        "  \n",
        "plt.legend()\n",
        "plt.savefig('./comparison/images/differenceExecution.png')\n",
        "plt.show()"
      ],
      "metadata": {
        "id": "voDVfS3LRP1H",
        "colab": {
          "base_uri": "https://localhost:8080/",
          "height": 404
        },
        "outputId": "b377fbf1-e9a9-4d4e-98b3-707848e91921"
      },
      "execution_count": null,
      "outputs": [
        {
          "output_type": "display_data",
          "data": {
            "text/plain": [
              "<Figure size 864x432 with 1 Axes>"
            ],
            "image/png": "[encoded data removed]"
          },
          "metadata": {
            "needs_background": "light"
          }
        }
      ]
    },
    {
      "cell_type": "markdown",
      "source": [
        "---\n",
        "8. Evoluzione del tempo di esecuzione di EC ed EC+ in base alla cardinalità della collezione N."
      ],
      "metadata": {
        "id": "FGm3w4uqiiww"
      }
    },
    {
      "cell_type": "code",
      "source": [
        "x = NlenList\n",
        "plt.figure(figsize=(12, 5))\n",
        "\n",
        "y1 = execution_time_table_EC \n",
        "plt.plot(x, y1, 'mo-', markersize=3, label = \"Execution time of EC\")\n",
        "  \n",
        "y2 = execution_time_table_ECplus \n",
        "plt.plot(x, y2, 'bs-', markersize=3, label = \"Execution time of EC+\")\n",
        "\n",
        "plt.grid(linewidth = 0.5)\n",
        "plt.xlabel('Cardinality of collection N')\n",
        "plt.ylabel('Execution time [s]')\n",
        "plt.title('Comparison of EC and EC+ execution time (N)')\n",
        "  \n",
        "plt.legend()\n",
        "plt.savefig('./comparison/images/compareExecWithN.png')\n",
        "plt.show()"
      ],
      "metadata": {
        "id": "its9dwkCUlmb",
        "colab": {
          "base_uri": "https://localhost:8080/",
          "height": 350
        },
        "outputId": "790eb42a-6461-408a-920c-8972eadc1e7f"
      },
      "execution_count": null,
      "outputs": [
        {
          "output_type": "display_data",
          "data": {
            "text/plain": [
              "<Figure size 864x360 with 1 Axes>"
            ],
            "image/png": "[encoded data removed]"
          },
          "metadata": {
            "needs_background": "light"
          }
        }
      ]
    },
    {
      "cell_type": "markdown",
      "source": [
        "---\n",
        "Download dei risultati ottenuti\n",
        "---\n",
        "La cartella *comparison*, contenente le cartelle *input*, *outputEC*, *outputEC+* ed *images*, viene interamente compressa in un file *.zip* e scaricata sul proprio dispositivo.\n",
        "Il nome di tale file è *experiments.zip*."
      ],
      "metadata": {
        "id": "5v7gDhnMIdzY"
      }
    },
    {
      "cell_type": "code",
      "source": [
        "!zip -r ./experiments.zip ./comparison"
      ],
      "metadata": {
        "id": "pUdYXxDm_mht",
        "colab": {
          "base_uri": "https://localhost:8080/"
        },
        "outputId": "07036563-b783-4980-a4a7-99d6bfdce409"
      },
      "execution_count": null,
      "outputs": [
        {
          "output_type": "stream",
          "name": "stdout",
          "text": [
            "  adding: comparison/ (stored 0%)\n",
            "  adding: comparison/images/ (stored 0%)\n",
            "  adding: comparison/images/evolCOV.png (deflated 9%)\n",
            "  adding: comparison/images/evolNCOV.png (deflated 9%)\n",
            "  adding: comparison/images/evolMN.png (deflated 10%)\n",
            "  adding: comparison/images/compareExecution.png (deflated 11%)\n",
            "  adding: comparison/images/aggregateIndexes.png (deflated 18%)\n",
            "  adding: comparison/images/differenceExecution.png (deflated 12%)\n",
            "  adding: comparison/images/cardinalityM.png (deflated 7%)\n",
            "  adding: comparison/images/compareExecWithN.png (deflated 9%)\n",
            "  adding: comparison/comparison_tables/ (stored 0%)\n",
            "  adding: comparison/comparison_tables/comparison_M0.txt (deflated 72%)\n",
            "  adding: comparison/comparison_tables/comparison_M3.txt (deflated 70%)\n",
            "  adding: comparison/comparison_tables/comparison_M2.txt (deflated 71%)\n",
            "  adding: comparison/comparison_tables/comparison_M5.txt (deflated 69%)\n",
            "  adding: comparison/comparison_tables/comparison_M4.txt (deflated 70%)\n",
            "  adding: comparison/comparison_tables/comparison_M1.txt (deflated 72%)\n",
            "  adding: comparison/outputEC+/ (stored 0%)\n",
            "  adding: comparison/outputEC+/output_M3_plus.txt (deflated 86%)\n",
            "  adding: comparison/outputEC+/output_M1_plus.txt (deflated 67%)\n",
            "  adding: comparison/outputEC+/output_M2_plus.txt (deflated 74%)\n",
            "  adding: comparison/outputEC+/output_M4_plus.txt (deflated 88%)\n",
            "  adding: comparison/outputEC+/output_M0_plus.txt (deflated 59%)\n",
            "  adding: comparison/outputEC+/output_M5_plus.txt (deflated 89%)\n",
            "  adding: comparison/outputEC/ (stored 0%)\n",
            "  adding: comparison/outputEC/output_M1.txt (deflated 63%)\n",
            "  adding: comparison/outputEC/output_M0.txt (deflated 53%)\n",
            "  adding: comparison/outputEC/output_M3.txt (deflated 86%)\n",
            "  adding: comparison/outputEC/output_M5.txt (deflated 89%)\n",
            "  adding: comparison/outputEC/output_M4.txt (deflated 88%)\n",
            "  adding: comparison/outputEC/output_M2.txt (deflated 74%)\n",
            "  adding: comparison/input/ (stored 0%)\n",
            "  adding: comparison/input/input_M2.txt (deflated 69%)\n",
            "  adding: comparison/input/input_M0.txt (deflated 55%)\n",
            "  adding: comparison/input/indexes_M0.txt (deflated 58%)\n",
            "  adding: comparison/input/indexes_M2.txt (deflated 71%)\n",
            "  adding: comparison/input/indexes_M4.txt (deflated 84%)\n",
            "  adding: comparison/input/input_M3.txt (deflated 80%)\n",
            "  adding: comparison/input/indexes_M5.txt (deflated 84%)\n",
            "  adding: comparison/input/indexes_M1.txt (deflated 65%)\n",
            "  adding: comparison/input/input_M5.txt (deflated 86%)\n",
            "  adding: comparison/input/input_M4.txt (deflated 85%)\n",
            "  adding: comparison/input/input_M1.txt (deflated 62%)\n",
            "  adding: comparison/input/indexes_M3.txt (deflated 79%)\n"
          ]
        }
      ]
    },
    {
      "cell_type": "code",
      "source": [
        "files.download(\"./experiments.zip\")"
      ],
      "metadata": {
        "id": "GvIThMUaAlyL",
        "colab": {
          "base_uri": "https://localhost:8080/",
          "height": 17
        },
        "outputId": "2343bafb-8bd0-462f-b9ba-083590c78b1b"
      },
      "execution_count": null,
      "outputs": [
        {
          "output_type": "display_data",
          "data": {
            "text/plain": [
              "<IPython.core.display.Javascript object>"
            ],
            "application/javascript": [
              "\n",
              "    async function download(id, filename, size) {\n",
              "      if (!google.colab.kernel.accessAllowed) {\n",
              "        return;\n",
              "      }\n",
              "      const div = document.createElement('div');\n",
              "      const label = document.createElement('label');\n",
              "      label.textContent = `Downloading \"${filename}\": `;\n",
              "      div.appendChild(label);\n",
              "      const progress = document.createElement('progress');\n",
              "      progress.max = size;\n",
              "      div.appendChild(progress);\n",
              "      document.body.appendChild(div);\n",
              "\n",
              "      const buffers = [];\n",
              "      let downloaded = 0;\n",
              "\n",
              "      const channel = await google.colab.kernel.comms.open(id);\n",
              "      // Send a message to notify the kernel that we're ready.\n",
              "      channel.send({})\n",
              "\n",
              "      for await (const message of channel.messages) {\n",
              "        // Send a message to notify the kernel that we're ready.\n",
              "        channel.send({})\n",
              "        if (message.buffers) {\n",
              "          for (const buffer of message.buffers) {\n",
              "            buffers.push(buffer);\n",
              "            downloaded += buffer.byteLength;\n",
              "            progress.value = downloaded;\n",
              "          }\n",
              "        }\n",
              "      }\n",
              "      const blob = new Blob(buffers, {type: 'application/binary'});\n",
              "      const a = document.createElement('a');\n",
              "      a.href = window.URL.createObjectURL(blob);\n",
              "      a.download = filename;\n",
              "      div.appendChild(a);\n",
              "      a.click();\n",
              "      div.remove();\n",
              "    }\n",
              "  "
            ]
          },
          "metadata": {}
        },
        {
          "output_type": "display_data",
          "data": {
            "text/plain": [
              "<IPython.core.display.Javascript object>"
            ],
            "application/javascript": [
              "download(\"download_1e0b1033-3c1e-45d3-9aa1-5b9e7cbb5756\", \"experiments.zip\", 33418683)"
            ]
          },
          "metadata": {}
        }
      ]
    }
  ]
}